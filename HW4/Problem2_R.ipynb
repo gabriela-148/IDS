{
  "nbformat": 4,
  "nbformat_minor": 0,
  "metadata": {
    "colab": {
      "provenance": [],
      "authorship_tag": "ABX9TyN6egiR6vv0dzto4G5h5S/i",
      "include_colab_link": true
    },
    "kernelspec": {
      "name": "ir",
      "display_name": "R"
    },
    "language_info": {
      "name": "R"
    }
  },
  "cells": [
    {
      "cell_type": "markdown",
      "metadata": {
        "id": "view-in-github",
        "colab_type": "text"
      },
      "source": [
        "<a href=\"https://colab.research.google.com/github/gabriela-148/IDS/blob/main/HW4/Problem2_R.ipynb\" target=\"_parent\"><img src=\"https://colab.research.google.com/assets/colab-badge.svg\" alt=\"Open In Colab\"/></a>"
      ]
    },
    {
      "cell_type": "markdown",
      "source": [
        "# **Gabriella Huegel**\n",
        "\n",
        "**Project 4 Report**\n",
        "\n",
        "\n",
        "**CSC346**\n",
        "\n",
        "\n",
        "**10/26/23**\n",
        "# Problem 2 - R"
      ],
      "metadata": {
        "id": "dGt22CzVLBjL"
      }
    },
    {
      "cell_type": "markdown",
      "source": [
        "For this problem, I used Google Colab to execute all the R code. To start, I imported the necessary libraries to cleanse and examine the dataset.\n",
        "\n",
        "I created a dataframe from the CSV called nutritionDF."
      ],
      "metadata": {
        "id": "znAsiPKgLDhK"
      }
    },
    {
      "cell_type": "code",
      "source": [
        "# Import the readr library for the CSV file\n",
        "library(readr)\n",
        "\n",
        "# Store CSV values in dataframe\n",
        "nutritionDF <- read_csv(\"https://raw.githubusercontent.com/bforoura/IDS/main/HW4/nutrition_subset.csv\", show_col_types = FALSE)\n",
        "\n",
        "# Print out DF info\n",
        "summary(nutritionDF)"
      ],
      "metadata": {
        "colab": {
          "base_uri": "https://localhost:8080/",
          "height": 139
        },
        "id": "ZtzcCqw8EmbO",
        "outputId": "aafd19ff-6702-4d78-9151-fc37ffc924a5"
      },
      "execution_count": null,
      "outputs": [
        {
          "output_type": "display_data",
          "data": {
            "text/plain": [
              "  food item         weight_in_grams  saturated_fat      cholesterol     \n",
              " Length:961         Min.   :   0.4   Min.   :  0.000   Min.   :   0.00  \n",
              " Class :character   1st Qu.:  32.0   1st Qu.:  0.000   1st Qu.:   0.00  \n",
              " Mode  :character   Median : 113.0   Median :  0.400   Median :   0.00  \n",
              "                    Mean   : 149.4   Mean   :  3.988   Mean   :  32.55  \n",
              "                    3rd Qu.: 218.0   3rd Qu.:  3.300   3rd Qu.:  20.00  \n",
              "                    Max.   :1542.0   Max.   :119.900   Max.   :2053.00  "
            ]
          },
          "metadata": {}
        }
      ]
    },
    {
      "cell_type": "markdown",
      "source": [
        "Normally, this would be the step where I would cleanse the data and identify outliers. In this case, I do not believe cleansing the data would be helpful. This is because the data related to food items. In order for this data to be accurate, it cannot be cleansed because that would mean I am giving out inaccurate information or data analysis that could have negative repercussions on those who use this analysis."
      ],
      "metadata": {
        "id": "iLeKK8RAH9ce"
      }
    },
    {
      "cell_type": "markdown",
      "source": [
        "Next, I displayed the food items with the highest amount of saturated fat."
      ],
      "metadata": {
        "id": "HAGfoBA0H-q-"
      }
    },
    {
      "cell_type": "code",
      "source": [
        "# Sort by the first column; only display the first three columns\n",
        "\n",
        "head(nutritionDF[order(nutritionDF$saturated_fat, decreasing = TRUE), c(\"food item\", \"saturated_fat\")], 5)"
      ],
      "metadata": {
        "colab": {
          "base_uri": "https://localhost:8080/",
          "height": 255
        },
        "id": "igoZ3lq9FMzA",
        "outputId": "75e05d35-f633-45cb-8144-6879c118566d"
      },
      "execution_count": null,
      "outputs": [
        {
          "output_type": "display_data",
          "data": {
            "text/html": [
              "<table class=\"dataframe\">\n",
              "<caption>A tibble: 5 × 2</caption>\n",
              "<thead>\n",
              "\t<tr><th scope=col>food item</th><th scope=col>saturated_fat</th></tr>\n",
              "\t<tr><th scope=col>&lt;chr&gt;</th><th scope=col>&lt;dbl&gt;</th></tr>\n",
              "</thead>\n",
              "<tbody>\n",
              "\t<tr><td>CHEESECAKE                    1 CAKE </td><td>119.9</td></tr>\n",
              "\t<tr><td>ICE CREAM; VANLLA; RICH 16% FT1/2 GAL</td><td>118.3</td></tr>\n",
              "\t<tr><td>YELLOWCAKE W/ CHOCFRSTNG;COMML1 CAKE </td><td> 92.0</td></tr>\n",
              "\t<tr><td>CREME PIE                     1 PIE  </td><td> 90.1</td></tr>\n",
              "\t<tr><td>LARD                          1 CUP  </td><td> 80.4</td></tr>\n",
              "</tbody>\n",
              "</table>\n"
            ],
            "text/markdown": "\nA tibble: 5 × 2\n\n| food item &lt;chr&gt; | saturated_fat &lt;dbl&gt; |\n|---|---|\n| CHEESECAKE                    1 CAKE  | 119.9 |\n| ICE CREAM; VANLLA; RICH 16% FT1/2 GAL | 118.3 |\n| YELLOWCAKE W/ CHOCFRSTNG;COMML1 CAKE  |  92.0 |\n| CREME PIE                     1 PIE   |  90.1 |\n| LARD                          1 CUP   |  80.4 |\n\n",
            "text/latex": "A tibble: 5 × 2\n\\begin{tabular}{ll}\n food item & saturated\\_fat\\\\\n <chr> & <dbl>\\\\\n\\hline\n\t CHEESECAKE                    1 CAKE  & 119.9\\\\\n\t ICE CREAM; VANLLA; RICH 16\\% FT1/2 GAL & 118.3\\\\\n\t YELLOWCAKE W/ CHOCFRSTNG;COMML1 CAKE  &  92.0\\\\\n\t CREME PIE                     1 PIE   &  90.1\\\\\n\t LARD                          1 CUP   &  80.4\\\\\n\\end{tabular}\n",
            "text/plain": [
              "  food item                             saturated_fat\n",
              "1 CHEESECAKE                    1 CAKE  119.9        \n",
              "2 ICE CREAM; VANLLA; RICH 16% FT1/2 GAL 118.3        \n",
              "3 YELLOWCAKE W/ CHOCFRSTNG;COMML1 CAKE   92.0        \n",
              "4 CREME PIE                     1 PIE    90.1        \n",
              "5 LARD                          1 CUP    80.4        "
            ]
          },
          "metadata": {}
        }
      ]
    },
    {
      "cell_type": "markdown",
      "source": [
        "From this list, we can see that Cheesecake has the highest amount of saturated fat."
      ],
      "metadata": {
        "id": "FRSNDF9GIK8N"
      }
    },
    {
      "cell_type": "markdown",
      "source": [
        "Then, I calculated the amount of saturated fat per gram of food per item. This data is important because the amount of saturated fat per gram may be different than the total amount in a certain food."
      ],
      "metadata": {
        "id": "80zjm26_IUBs"
      }
    },
    {
      "cell_type": "code",
      "source": [
        "\n",
        "# Create the new variable \"saturated_fat_per_gram\"\n",
        "nutritionDF$saturated_fat_per_gram <- nutritionDF$saturated_fat / nutritionDF$weight_in_grams\n",
        "\n",
        "# Sort the data frame by the new variable in decreasing order and select the top 5 rows\n",
        "head(nutritionDF[order(nutritionDF$saturated_fat_per_gram, decreasing = TRUE), c(\"food item\", \"saturated_fat_per_gram\")], 5)\n",
        "\n"
      ],
      "metadata": {
        "colab": {
          "base_uri": "https://localhost:8080/",
          "height": 255
        },
        "id": "fOKhZp9eG4Yr",
        "outputId": "d952062a-fcf1-4e92-cf59-96f5c3947837"
      },
      "execution_count": null,
      "outputs": [
        {
          "output_type": "display_data",
          "data": {
            "text/html": [
              "<table class=\"dataframe\">\n",
              "<caption>A tibble: 5 × 2</caption>\n",
              "<thead>\n",
              "\t<tr><th scope=col>food item</th><th scope=col>saturated_fat_per_gram</th></tr>\n",
              "\t<tr><th scope=col>&lt;chr&gt;</th><th scope=col>&lt;dbl&gt;</th></tr>\n",
              "</thead>\n",
              "<tbody>\n",
              "\t<tr><td>BUTTER; SALTED                1 TBSP </td><td>0.5071429</td></tr>\n",
              "\t<tr><td>BUTTER; UNSALTED              1 TBSP </td><td>0.5071429</td></tr>\n",
              "\t<tr><td>BUTTER; SALTED                1/2 CUP</td><td>0.5053097</td></tr>\n",
              "\t<tr><td>BUTTER; UNSALTED              1/2 CUP</td><td>0.5053097</td></tr>\n",
              "\t<tr><td>BUTTER; SALTED                1 PAT  </td><td>0.5000000</td></tr>\n",
              "</tbody>\n",
              "</table>\n"
            ],
            "text/markdown": "\nA tibble: 5 × 2\n\n| food item &lt;chr&gt; | saturated_fat_per_gram &lt;dbl&gt; |\n|---|---|\n| BUTTER; SALTED                1 TBSP  | 0.5071429 |\n| BUTTER; UNSALTED              1 TBSP  | 0.5071429 |\n| BUTTER; SALTED                1/2 CUP | 0.5053097 |\n| BUTTER; UNSALTED              1/2 CUP | 0.5053097 |\n| BUTTER; SALTED                1 PAT   | 0.5000000 |\n\n",
            "text/latex": "A tibble: 5 × 2\n\\begin{tabular}{ll}\n food item & saturated\\_fat\\_per\\_gram\\\\\n <chr> & <dbl>\\\\\n\\hline\n\t BUTTER; SALTED                1 TBSP  & 0.5071429\\\\\n\t BUTTER; UNSALTED              1 TBSP  & 0.5071429\\\\\n\t BUTTER; SALTED                1/2 CUP & 0.5053097\\\\\n\t BUTTER; UNSALTED              1/2 CUP & 0.5053097\\\\\n\t BUTTER; SALTED                1 PAT   & 0.5000000\\\\\n\\end{tabular}\n",
            "text/plain": [
              "  food item                             saturated_fat_per_gram\n",
              "1 BUTTER; SALTED                1 TBSP  0.5071429             \n",
              "2 BUTTER; UNSALTED              1 TBSP  0.5071429             \n",
              "3 BUTTER; SALTED                1/2 CUP 0.5053097             \n",
              "4 BUTTER; UNSALTED              1/2 CUP 0.5053097             \n",
              "5 BUTTER; SALTED                1 PAT   0.5000000             "
            ]
          },
          "metadata": {}
        }
      ]
    },
    {
      "cell_type": "markdown",
      "source": [
        "I displayed the top five foods with the highest saturated fat per gram, and this list is different than the total amount of saturated fat. In this list, butter takes the cake with the highest amount fat per gram. This did not surprise me as butter is all saturated fat."
      ],
      "metadata": {
        "id": "DMH5fSKpIoLL"
      }
    },
    {
      "cell_type": "markdown",
      "source": [
        "Next, I scaled the saturated fat per gram attribute so I could identify outliers. I used the StandardScaler to create a normal distribution. After scaling, I could apply the 3 standard deviation rule which states that any values outside 3 or -3 are outliers. I used that logic here. Then, I created a density plot for the outliers of the dataset."
      ],
      "metadata": {
        "id": "QVbtkFskI9jV"
      }
    },
    {
      "cell_type": "code",
      "source": [
        "\n",
        "#High end of scale\n",
        "nutritionDF$scaled_saturated <- scale( x= nutritionDF$saturated_fat_per_gram)\n",
        "\n",
        "devRule <- (nutritionDF$scaled_saturated > 3 | nutritionDF$scaled_saturated < -3)\n",
        "# how many outliers are there?\n",
        "cat (\"There are\", sum(devRule), \"outliers \\n\\n\")\n",
        "\n",
        "nutritionDF$scaled_saturated[which(devRule)]\n",
        "\n",
        "high_outliers <- nutritionDF[nutritionDF$scaled_saturated > 3, \"food item\"]\n",
        "\n",
        "high_outliers\n"
      ],
      "metadata": {
        "colab": {
          "base_uri": "https://localhost:8080/",
          "height": 638
        },
        "id": "Jbk00GcsH4ya",
        "outputId": "7bac2196-a64d-420c-aa45-5e7bdfdcd76e"
      },
      "execution_count": null,
      "outputs": [
        {
          "output_type": "stream",
          "name": "stdout",
          "text": [
            "There are 15 outliers \n",
            "\n"
          ]
        },
        {
          "output_type": "display_data",
          "data": {
            "text/html": [
              "<style>\n",
              ".list-inline {list-style: none; margin:0; padding: 0}\n",
              ".list-inline>li {display: inline-block}\n",
              ".list-inline>li:not(:last-child)::after {content: \"\\00b7\"; padding: 0 .5ex}\n",
              "</style>\n",
              "<ol class=list-inline><li>4.23846914186069</li><li>3.93663696749015</li><li>4.20207816592171</li><li>3.94083741524481</li><li>7.0790551253279</li><li>7.0790551253279</li><li>5.36857985204816</li><li>3.27652044727709</li><li>5.37028209729208</li><li>3.22204859947182</li><li>7.10677489432831</li><li>7.10677489432831</li><li>6.99876338063706</li><li>6.99876338063706</li><li>4.73052159312083</li></ol>\n"
            ],
            "text/markdown": "1. 4.23846914186069\n2. 3.93663696749015\n3. 4.20207816592171\n4. 3.94083741524481\n5. 7.0790551253279\n6. 7.0790551253279\n7. 5.36857985204816\n8. 3.27652044727709\n9. 5.37028209729208\n10. 3.22204859947182\n11. 7.10677489432831\n12. 7.10677489432831\n13. 6.99876338063706\n14. 6.99876338063706\n15. 4.73052159312083\n\n\n",
            "text/latex": "\\begin{enumerate*}\n\\item 4.23846914186069\n\\item 3.93663696749015\n\\item 4.20207816592171\n\\item 3.94083741524481\n\\item 7.0790551253279\n\\item 7.0790551253279\n\\item 5.36857985204816\n\\item 3.27652044727709\n\\item 5.37028209729208\n\\item 3.22204859947182\n\\item 7.10677489432831\n\\item 7.10677489432831\n\\item 6.99876338063706\n\\item 6.99876338063706\n\\item 4.73052159312083\n\\end{enumerate*}\n",
            "text/plain": [
              " [1] 4.238469 3.936637 4.202078 3.940837 7.079055 7.079055 5.368580 3.276520\n",
              " [9] 5.370282 3.222049 7.106775 7.106775 6.998763 6.998763 4.730522"
            ]
          },
          "metadata": {}
        },
        {
          "output_type": "display_data",
          "data": {
            "text/html": [
              "<table class=\"dataframe\">\n",
              "<caption>A tibble: 15 × 1</caption>\n",
              "<thead>\n",
              "\t<tr><th scope=col>food item</th></tr>\n",
              "\t<tr><th scope=col>&lt;chr&gt;</th></tr>\n",
              "</thead>\n",
              "<tbody>\n",
              "\t<tr><td>CHOCOLATE; BITTER OT BAKING   1 OZ   </td></tr>\n",
              "\t<tr><td>COCONUT; RAW; SHREDDED        1 CUP  </td></tr>\n",
              "\t<tr><td>COCONUT; DRIED; SWEETND;SHREDD1 CUP  </td></tr>\n",
              "\t<tr><td>COCONUT; RAW; PIECE           1 PIECE</td></tr>\n",
              "\t<tr><td>BUTTER; SALTED                1/2 CUP</td></tr>\n",
              "\t<tr><td>BUTTER; UNSALTED              1/2 CUP</td></tr>\n",
              "\t<tr><td>LARD                          1 CUP  </td></tr>\n",
              "\t<tr><td>FATS; COOKING/VEGETBL SHORTENG1 TBSP </td></tr>\n",
              "\t<tr><td>LARD                          1 TBSP </td></tr>\n",
              "\t<tr><td>FATS; COOKING/VEGETBL SHORTENG1 CUP  </td></tr>\n",
              "\t<tr><td>BUTTER; SALTED                1 TBSP </td></tr>\n",
              "\t<tr><td>BUTTER; UNSALTED              1 TBSP </td></tr>\n",
              "\t<tr><td>BUTTER; SALTED                1 PAT  </td></tr>\n",
              "\t<tr><td>BUTTER; UNSALTED              1 PAT  </td></tr>\n",
              "\t<tr><td>IMITATION CREAMERS; POWDERED  1 TSP  </td></tr>\n",
              "</tbody>\n",
              "</table>\n"
            ],
            "text/markdown": "\nA tibble: 15 × 1\n\n| food item &lt;chr&gt; |\n|---|\n| CHOCOLATE; BITTER OT BAKING   1 OZ    |\n| COCONUT; RAW; SHREDDED        1 CUP   |\n| COCONUT; DRIED; SWEETND;SHREDD1 CUP   |\n| COCONUT; RAW; PIECE           1 PIECE |\n| BUTTER; SALTED                1/2 CUP |\n| BUTTER; UNSALTED              1/2 CUP |\n| LARD                          1 CUP   |\n| FATS; COOKING/VEGETBL SHORTENG1 TBSP  |\n| LARD                          1 TBSP  |\n| FATS; COOKING/VEGETBL SHORTENG1 CUP   |\n| BUTTER; SALTED                1 TBSP  |\n| BUTTER; UNSALTED              1 TBSP  |\n| BUTTER; SALTED                1 PAT   |\n| BUTTER; UNSALTED              1 PAT   |\n| IMITATION CREAMERS; POWDERED  1 TSP   |\n\n",
            "text/latex": "A tibble: 15 × 1\n\\begin{tabular}{l}\n food item\\\\\n <chr>\\\\\n\\hline\n\t CHOCOLATE; BITTER OT BAKING   1 OZ   \\\\\n\t COCONUT; RAW; SHREDDED        1 CUP  \\\\\n\t COCONUT; DRIED; SWEETND;SHREDD1 CUP  \\\\\n\t COCONUT; RAW; PIECE           1 PIECE\\\\\n\t BUTTER; SALTED                1/2 CUP\\\\\n\t BUTTER; UNSALTED              1/2 CUP\\\\\n\t LARD                          1 CUP  \\\\\n\t FATS; COOKING/VEGETBL SHORTENG1 TBSP \\\\\n\t LARD                          1 TBSP \\\\\n\t FATS; COOKING/VEGETBL SHORTENG1 CUP  \\\\\n\t BUTTER; SALTED                1 TBSP \\\\\n\t BUTTER; UNSALTED              1 TBSP \\\\\n\t BUTTER; SALTED                1 PAT  \\\\\n\t BUTTER; UNSALTED              1 PAT  \\\\\n\t IMITATION CREAMERS; POWDERED  1 TSP  \\\\\n\\end{tabular}\n",
            "text/plain": [
              "   food item                            \n",
              "1  CHOCOLATE; BITTER OT BAKING   1 OZ   \n",
              "2  COCONUT; RAW; SHREDDED        1 CUP  \n",
              "3  COCONUT; DRIED; SWEETND;SHREDD1 CUP  \n",
              "4  COCONUT; RAW; PIECE           1 PIECE\n",
              "5  BUTTER; SALTED                1/2 CUP\n",
              "6  BUTTER; UNSALTED              1/2 CUP\n",
              "7  LARD                          1 CUP  \n",
              "8  FATS; COOKING/VEGETBL SHORTENG1 TBSP \n",
              "9  LARD                          1 TBSP \n",
              "10 FATS; COOKING/VEGETBL SHORTENG1 CUP  \n",
              "11 BUTTER; SALTED                1 TBSP \n",
              "12 BUTTER; UNSALTED              1 TBSP \n",
              "13 BUTTER; SALTED                1 PAT  \n",
              "14 BUTTER; UNSALTED              1 PAT  \n",
              "15 IMITATION CREAMERS; POWDERED  1 TSP  "
            ]
          },
          "metadata": {}
        }
      ]
    },
    {
      "cell_type": "code",
      "source": [
        "# Low end of scale\n",
        "\n",
        "nutritionDF$scaled_saturated <- scale( x= nutritionDF$saturated_fat_per_gram)\n",
        "\n",
        "devRule <- (nutritionDF$scaled_saturated > 3 | nutritionDF$scaled_saturated < -3)\n",
        "low_outliers <- nutritionDF[nutritionDF$scaled_saturated < -3, \"food item\"]\n",
        "\n",
        "low_outliers"
      ],
      "metadata": {
        "colab": {
          "base_uri": "https://localhost:8080/",
          "height": 98
        },
        "id": "Is2PwSg3DTNG",
        "outputId": "39673de8-8344-43e5-9a0b-949bcd5ab46a"
      },
      "execution_count": null,
      "outputs": [
        {
          "output_type": "display_data",
          "data": {
            "text/html": [
              "<table class=\"dataframe\">\n",
              "<caption>A tibble: 0 × 1</caption>\n",
              "<thead>\n",
              "\t<tr><th scope=col>food item</th></tr>\n",
              "\t<tr><th scope=col>&lt;chr&gt;</th></tr>\n",
              "</thead>\n",
              "<tbody>\n",
              "</tbody>\n",
              "</table>\n"
            ],
            "text/markdown": "\nA tibble: 0 × 1\n\n| food item &lt;chr&gt; |\n|---|\n\n",
            "text/latex": "A tibble: 0 × 1\n\\begin{tabular}{l}\n food item\\\\\n <chr>\\\\\n\\hline\n\\end{tabular}\n",
            "text/plain": [
              "     food item"
            ]
          },
          "metadata": {}
        }
      ]
    },
    {
      "cell_type": "code",
      "source": [
        "\n",
        "# Kernel Density Plot\n",
        "d2 <- density(nutritionDF$saturated_fat_per_gram)\n",
        "\n",
        "# plots the results\n",
        "plot(d2, main=\"Kernel Density of Saturated Fat Per Gram\")\n",
        "\n",
        "# plots the results (filled)\n",
        "polygon(d2, col=\"orange\", border=\"blue\")"
      ],
      "metadata": {
        "colab": {
          "base_uri": "https://localhost:8080/",
          "height": 437
        },
        "id": "rGND2lhUDeGu",
        "outputId": "a2367998-6638-4ec8-a6b8-fcc7efc5c59c"
      },
      "execution_count": null,
      "outputs": [
        {
          "output_type": "display_data",
          "data": {
            "text/plain": [
              "Plot with title “Kernel Density of Saturated Fat Per Gram”"
            ],
            "image/png": "[encoded data removed]"
          },
          "metadata": {
            "image/png": {
              "width": 420,
              "height": 420
            }
          }
        }
      ]
    },
    {
      "cell_type": "markdown",
      "source": [
        "From this density plot we can conclude that most of the food items listed have a saturated fat per gram average between 0.0 and 0.1."
      ],
      "metadata": {
        "id": "X9TxOUrEIsRF"
      }
    },
    {
      "cell_type": "markdown",
      "source": [
        "Next, I checked to see if there are any missing values. When I examined the data I noticed that there were many 0 values. Normally, I would impute the average of each column. However, since we are dealing with food items, in this case we do have to impute any values because not all foods with contain cholesterol or saturated fat. So no values need to be imputed."
      ],
      "metadata": {
        "id": "NZnBZKsKJjM2"
      }
    },
    {
      "cell_type": "markdown",
      "source": [
        "Next, I scaled all the numeric attributes which are weight and cholesterol. I used the same process as idenfiying outliers in saturated fat per gram using the StandardScaler."
      ],
      "metadata": {
        "id": "-_MQm02xJ_sl"
      }
    },
    {
      "cell_type": "code",
      "source": [
        "# Z score of weight\n",
        "\n",
        "nutritionDF$scaled_weight <- scale( x= nutritionDF$weight_in_grams)\n",
        "\n",
        "devRule <- (nutritionDF$scaled_weight > 3 | nutritionDF$scaled_weight < -3)\n",
        "# how many outliers are there?\n",
        "cat (\"There are\", sum(devRule), \"outliers \\n\\n\")\n",
        "\n",
        "nutritionDF$scaled_saturated[which(devRule)]"
      ],
      "metadata": {
        "colab": {
          "base_uri": "https://localhost:8080/",
          "height": 104
        },
        "id": "WiqaOFu7JpZl",
        "outputId": "c3a3a7d3-4c93-4720-8400-45cd761fd69a"
      },
      "execution_count": null,
      "outputs": [
        {
          "output_type": "stream",
          "name": "stdout",
          "text": [
            "There are 22 outliers \n",
            "\n"
          ]
        },
        {
          "output_type": "display_data",
          "data": {
            "text/html": [
              "<style>\n",
              ".list-inline {list-style: none; margin:0; padding: 0}\n",
              ".list-inline>li {display: inline-block}\n",
              ".list-inline>li:not(:last-child)::after {content: \"\\00b7\"; padding: 0 .5ex}\n",
              "</style>\n",
              "<ol class=list-inline><li>-0.00204442215113673</li><li>-0.0331750338573006</li><li>1.07136397073728</li><li>-0.0469913112517471</li><li>0.0120726752031041</li><li>0.197453016262882</li><li>0.0877141842985383</li><li>0.0903157702837686</li><li>0.0727327796351127</li><li>-0.156587143722354</li><li>-0.122985249289638</li><li>-0.0939926850883028</li><li>0.693542527252587</li><li>0.451275965168837</li><li>0.0119164147111459</li><li>0.943754299147319</li><li>-0.107594134960534</li><li>-0.168400616742274</li><li>-0.153999081583441</li><li>-0.123595840692571</li><li>0.935163173569856</li><li>-0.375719214314116</li></ol>\n"
            ],
            "text/markdown": "1. -0.00204442215113673\n2. -0.0331750338573006\n3. 1.07136397073728\n4. -0.0469913112517471\n5. 0.0120726752031041\n6. 0.197453016262882\n7. 0.0877141842985383\n8. 0.0903157702837686\n9. 0.0727327796351127\n10. -0.156587143722354\n11. -0.122985249289638\n12. -0.0939926850883028\n13. 0.693542527252587\n14. 0.451275965168837\n15. 0.0119164147111459\n16. 0.943754299147319\n17. -0.107594134960534\n18. -0.168400616742274\n19. -0.153999081583441\n20. -0.123595840692571\n21. 0.935163173569856\n22. -0.375719214314116\n\n\n",
            "text/latex": "\\begin{enumerate*}\n\\item -0.00204442215113673\n\\item -0.0331750338573006\n\\item 1.07136397073728\n\\item -0.0469913112517471\n\\item 0.0120726752031041\n\\item 0.197453016262882\n\\item 0.0877141842985383\n\\item 0.0903157702837686\n\\item 0.0727327796351127\n\\item -0.156587143722354\n\\item -0.122985249289638\n\\item -0.0939926850883028\n\\item 0.693542527252587\n\\item 0.451275965168837\n\\item 0.0119164147111459\n\\item 0.943754299147319\n\\item -0.107594134960534\n\\item -0.168400616742274\n\\item -0.153999081583441\n\\item -0.123595840692571\n\\item 0.935163173569856\n\\item -0.375719214314116\n\\end{enumerate*}\n",
            "text/plain": [
              " [1] -0.002044422 -0.033175034  1.071363971 -0.046991311  0.012072675\n",
              " [6]  0.197453016  0.087714184  0.090315770  0.072732780 -0.156587144\n",
              "[11] -0.122985249 -0.093992685  0.693542527  0.451275965  0.011916415\n",
              "[16]  0.943754299 -0.107594135 -0.168400617 -0.153999082 -0.123595841\n",
              "[21]  0.935163174 -0.375719214"
            ]
          },
          "metadata": {}
        }
      ]
    },
    {
      "cell_type": "code",
      "source": [
        "# Z score of cholesterol\n",
        "nutritionDF$scaled_cholesterol <- scale( x= nutritionDF$cholesterol)\n",
        "\n",
        "devRule <- (nutritionDF$scaled_cholesterol > 3 | nutritionDF$scaled_cholesterol < -3)\n",
        "# how many outliers are there?\n",
        "cat (\"There are\", sum(devRule), \"outliers \\n\\n\")\n",
        "\n",
        "nutritionDF$scaled_saturated[which(devRule)]"
      ],
      "metadata": {
        "colab": {
          "base_uri": "https://localhost:8080/",
          "height": 86
        },
        "id": "xHn_TSdbKHfT",
        "outputId": "0895b2b3-a315-4622-bce1-0180daeb8265"
      },
      "execution_count": null,
      "outputs": [
        {
          "output_type": "stream",
          "name": "stdout",
          "text": [
            "There are 17 outliers \n",
            "\n"
          ]
        },
        {
          "output_type": "display_data",
          "data": {
            "text/html": [
              "<style>\n",
              ".list-inline {list-style: none; margin:0; padding: 0}\n",
              ".list-inline>li {display: inline-block}\n",
              ".list-inline>li:not(:last-child)::after {content: \"\\00b7\"; padding: 0 .5ex}\n",
              "</style>\n",
              "<ol class=list-inline><li>-0.117289286080533</li><li>0.0587084172767577</li><li>-0.00204442215113673</li><li>-0.0331750338573006</li><li>1.07136397073728</li><li>1.01060506159421</li><li>-0.0469913112517471</li><li>0.0120726752031041</li><li>0.197453016262882</li><li>0.0877141842985383</li><li>0.0903157702837686</li><li>0.0727327796351127</li><li>-0.0939926850883028</li><li>0.693542527252587</li><li>0.451275965168837</li><li>0.0119164147111459</li><li>0.943754299147319</li></ol>\n"
            ],
            "text/markdown": "1. -0.117289286080533\n2. 0.0587084172767577\n3. -0.00204442215113673\n4. -0.0331750338573006\n5. 1.07136397073728\n6. 1.01060506159421\n7. -0.0469913112517471\n8. 0.0120726752031041\n9. 0.197453016262882\n10. 0.0877141842985383\n11. 0.0903157702837686\n12. 0.0727327796351127\n13. -0.0939926850883028\n14. 0.693542527252587\n15. 0.451275965168837\n16. 0.0119164147111459\n17. 0.943754299147319\n\n\n",
            "text/latex": "\\begin{enumerate*}\n\\item -0.117289286080533\n\\item 0.0587084172767577\n\\item -0.00204442215113673\n\\item -0.0331750338573006\n\\item 1.07136397073728\n\\item 1.01060506159421\n\\item -0.0469913112517471\n\\item 0.0120726752031041\n\\item 0.197453016262882\n\\item 0.0877141842985383\n\\item 0.0903157702837686\n\\item 0.0727327796351127\n\\item -0.0939926850883028\n\\item 0.693542527252587\n\\item 0.451275965168837\n\\item 0.0119164147111459\n\\item 0.943754299147319\n\\end{enumerate*}\n",
            "text/plain": [
              " [1] -0.117289286  0.058708417 -0.002044422 -0.033175034  1.071363971\n",
              " [6]  1.010605062 -0.046991311  0.012072675  0.197453016  0.087714184\n",
              "[11]  0.090315770  0.072732780 -0.093992685  0.693542527  0.451275965\n",
              "[16]  0.011916415  0.943754299"
            ]
          },
          "metadata": {}
        }
      ]
    },
    {
      "cell_type": "markdown",
      "source": [
        "From this process of identifying outliers, I found that weight has 22 outliers and cholesterol has 17 outliers. However, I did not do anything to change this because these measures provided here are what is measured in the specific foods. The amount of cholesterol or the weight of an item can be changed."
      ],
      "metadata": {
        "id": "CdK5N-uYKbC4"
      }
    },
    {
      "cell_type": "markdown",
      "source": [
        "For this analysis, I did not have any context for the data. There was no reference sheet to describe the data or to explain why the data was collected. As I mentioned before, I can only make assumptions about what the data could be interpreted as using common sense."
      ],
      "metadata": {
        "id": "4hl75x2DFDhY"
      }
    }
  ]
}