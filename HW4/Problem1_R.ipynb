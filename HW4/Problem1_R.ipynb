{
  "nbformat": 4,
  "nbformat_minor": 0,
  "metadata": {
    "colab": {
      "provenance": [],
      "authorship_tag": "ABX9TyN2v2l2JHMCB0p/NooXr3cC",
      "include_colab_link": true
    },
    "kernelspec": {
      "name": "ir",
      "display_name": "R"
    },
    "language_info": {
      "name": "R"
    }
  },
  "cells": [
    {
      "cell_type": "markdown",
      "metadata": {
        "id": "view-in-github",
        "colab_type": "text"
      },
      "source": [
        "<a href=\"https://colab.research.google.com/github/gabriela-148/IDS/blob/main/HW4/Problem1_R.ipynb\" target=\"_parent\"><img src=\"https://colab.research.google.com/assets/colab-badge.svg\" alt=\"Open In Colab\"/></a>"
      ]
    },
    {
      "cell_type": "markdown",
      "source": [
        "# **Gabriella Huegel**\n",
        "\n",
        "**Project 4 Report**\n",
        "\n",
        "\n",
        "**CSC346**\n",
        "\n",
        "\n",
        "**10/26/23**\n",
        "# Problem 1 - R"
      ],
      "metadata": {
        "id": "q818DsDjT_Uj"
      }
    },
    {
      "cell_type": "markdown",
      "source": [
        "In this project, I used Google Colab to execute all the R code I wrote. I also referenced the Portuguese_Bank_R Jupyter notebook within the IDS repository in GitHub."
      ],
      "metadata": {
        "id": "FKt7J8J3UTWj"
      }
    },
    {
      "cell_type": "markdown",
      "source": [
        "First, I imported the readr library so I could read the CSV file into a data frame in R. I named the data frame trainingDF because the data we are dealing with covers adult training. Then, I had it display a summary of the table to ensure the correct data was imported."
      ],
      "metadata": {
        "id": "9wpkRIlUyjk4"
      }
    },
    {
      "cell_type": "code",
      "source": [
        "# install libraries\n",
        "install.packages(\"Hmisc\")\n",
        "library(Hmisc)\n",
        "library(readr)\n",
        "\n",
        "# Read CSV int DF\n",
        "trainingDF <- read_csv(\"https://raw.githubusercontent.com/bforoura/IDS/main/HW4/adult_training.csv\", show_col_types = FALSE)\n",
        "\n",
        "# Check if all data is correct\n",
        "summary(trainingDF)"
      ],
      "metadata": {
        "colab": {
          "base_uri": "https://localhost:8080/",
          "height": 642
        },
        "id": "uaZ2LXHeNTOg",
        "outputId": "d24a88d4-1fb5-4f3b-dc44-390b52e0467a"
      },
      "execution_count": null,
      "outputs": [
        {
          "output_type": "stream",
          "name": "stderr",
          "text": [
            "Installing package into ‘/usr/local/lib/R/site-library’\n",
            "(as ‘lib’ is unspecified)\n",
            "\n",
            "also installing the dependencies ‘checkmate’, ‘htmlwidgets’, ‘gridExtra’, ‘htmlTable’, ‘viridis’, ‘Formula’\n",
            "\n",
            "\n",
            "\n",
            "Attaching package: ‘Hmisc’\n",
            "\n",
            "\n",
            "The following objects are masked from ‘package:base’:\n",
            "\n",
            "    format.pval, units\n",
            "\n",
            "\n"
          ]
        },
        {
          "output_type": "display_data",
          "data": {
            "text/plain": [
              "      age         workclass           education     marital-status    \n",
              " Min.   :17.00   Length:14797       Min.   : 1.00   Length:14797      \n",
              " 1st Qu.:28.00   Class :character   1st Qu.: 9.00   Class :character  \n",
              " Median :37.00   Mode  :character   Median :10.00   Mode  :character  \n",
              " Mean   :38.69                      Mean   :10.07                     \n",
              " 3rd Qu.:48.00                      3rd Qu.:12.00                     \n",
              " Max.   :90.00                      Max.   :16.00                     \n",
              "  occupation            sex             capital-gain    capital-loss    \n",
              " Length:14797       Length:14797       Min.   :    0   Min.   :   0.00  \n",
              " Class :character   Class :character   1st Qu.:    0   1st Qu.:   0.00  \n",
              " Mode  :character   Mode  :character   Median :    0   Median :   0.00  \n",
              "                                       Mean   : 1067   Mean   :  88.58  \n",
              "                                       3rd Qu.:    0   3rd Qu.:   0.00  \n",
              "                                       Max.   :99999   Max.   :4356.00  \n",
              "    income         \n",
              " Length:14797      \n",
              " Class :character  \n",
              " Mode  :character  \n",
              "                   \n",
              "                   \n",
              "                   "
            ]
          },
          "metadata": {}
        }
      ]
    },
    {
      "cell_type": "markdown",
      "source": [
        "Then, I started to clean up the dataset. I first tried using the is.na function to test if there were any NA or null values. However when examining the data, I noticed that the dataset does not contain many numeric values, but categoric values. Given this, when I was cleansing the data I had to replace missing values with the mode for each column instead of the average, which is the standard procedure for numeric columns."
      ],
      "metadata": {
        "id": "3ghXEK5hzLYh"
      }
    },
    {
      "cell_type": "markdown",
      "source": [
        "There is not a built in mode function in R so I had to create my own function which I named mymode. Then, I went through each column and replace the '?' with NA. I replace the values first with NA so it is easier to replace the NA with the mode later in the cell.  "
      ],
      "metadata": {
        "id": "jeyzHffGzh_n"
      }
    },
    {
      "cell_type": "code",
      "source": [
        "#own mode function\n",
        "mymode <- function(v) {\n",
        "   uniqv <- unique(v)\n",
        "\n",
        "   uniqv[{which.max(tabulate(match(v, uniqv)))}]\n",
        "}\n",
        "\n",
        "# Replace all \"?\" with NA\n",
        "trainingDF$education <- ifelse(trainingDF$education == \"?\", yes=NA, no = trainingDF$education)\n",
        "trainingDF$workclass <- ifelse(trainingDF$workclass == \"?\", yes = NA, no = trainingDF$workclass)\n",
        "trainingDF$age <- ifelse(trainingDF$age == \"?\", yes = NA, no = trainingDF$age)\n",
        "trainingDF$income <- ifelse(trainingDF$income == \"?\", yes = NA, no = trainingDF$income)\n",
        "trainingDF$sex <- ifelse(trainingDF$sex == \"?\", yes = NA, no = trainingDF$sex)\n",
        "trainingDF$occupation <- ifelse(trainingDF$occupation == \"?\", yes = NA, no = trainingDF$occupation)\n",
        "trainingDF$`marital-status` <- ifelse(trainingDF$`marital-status` == \"?\", yes = NA, no = trainingDF$`marital-status`)\n",
        "trainingDF$`capital-gain` <- ifelse(trainingDF$`capital-gain` == 99999, yes = NA, no = trainingDF$`capital-gain`)\n",
        "trainingDF$`capital-gain` <- ifelse(trainingDF$`capital-gain` == \"?\", yes = NA, no = trainingDF$`capital-gain`)\n",
        "trainingDF$`capital-loss` <- ifelse(trainingDF$`capital-loss` == \"?\", yes = NA, no = trainingDF$`capital-loss`)\n",
        "\n",
        "# Imputes the average for numeric values where it is NA, or the mode if the column is categorical\n",
        "trainingDF$education <- with(trainingDF, impute(education, mean))\n",
        "trainingDF$workclass <- with(trainingDF, impute(workclass, mymode(trainingDF$workclass)))\n",
        "trainingDF$age <- with(trainingDF, impute(age, mean))\n",
        "trainingDF$income <- with(trainingDF, impute(income, mean))\n",
        "trainingDF$sex <- with(trainingDF, impute(sex, mymode(trainingDF$sex)))\n",
        "trainingDF$occupation <- with(trainingDF, impute(occupation, mymode(trainingDF$occupation)))\n",
        "trainingDF$`marital-status` <- with(trainingDF, impute(`marital-status`, mymode(trainingDF$`marital-status`)))\n",
        "trainingDF$`capital-gain` <- with(trainingDF, impute(`capital-gain`, mymode(trainingDF$`capital-gain`)))\n",
        "trainingDF$`capital-loss` <- with(trainingDF, impute(`capital-loss`, mymode(trainingDF$`capital-loss`)))\n",
        "\n",
        "# Prints sum of NA in whole DF to check if all NAs were replaced\n",
        "cat(\"Sum of NA: \", sum(is.na(trainingDF)))"
      ],
      "metadata": {
        "colab": {
          "base_uri": "https://localhost:8080/"
        },
        "id": "CAWu2X_4brxg",
        "outputId": "17442c1d-0c14-4f74-f66a-2a1e64205d66"
      },
      "execution_count": null,
      "outputs": [
        {
          "output_type": "stream",
          "name": "stdout",
          "text": [
            "Sum of NA:  0"
          ]
        }
      ]
    },
    {
      "cell_type": "markdown",
      "source": [
        "Next, I created a contingency table between workclass and sex to examine their relationship, if there is one."
      ],
      "metadata": {
        "id": "z4sGMoQv0UXW"
      }
    },
    {
      "cell_type": "code",
      "source": [
        "r_crosstab <- table(trainingDF$workclass, trainingDF$sex)\n",
        "\n",
        "ftable(r_crosstab)"
      ],
      "metadata": {
        "colab": {
          "base_uri": "https://localhost:8080/",
          "height": 191
        },
        "id": "UJiXNUvlNn7-",
        "outputId": "7ad941c1-63e6-4e26-aadd-632603033746"
      },
      "execution_count": null,
      "outputs": [
        {
          "output_type": "display_data",
          "data": {
            "text/plain": [
              "                  Female Male\n",
              "                             \n",
              "Federal-gov          149  305\n",
              "Local-gov            377  592\n",
              "Never-worked           1    4\n",
              "Private             3951 7159\n",
              "Self-emp-inc          54  444\n",
              "Self-emp-not-inc     178  992\n",
              "State-gov            201  385\n",
              "Without-pay            1    4"
            ]
          },
          "metadata": {}
        }
      ]
    },
    {
      "cell_type": "markdown",
      "source": [
        "From this result we can conclude that there are more males in government than females and in general there are more males involed in this data than females. Since there is no background information given on these attributes along with the dataset, I can only assume about the relationships between two attributes."
      ],
      "metadata": {
        "id": "F5lQIAK_0p8l"
      }
    },
    {
      "cell_type": "code",
      "source": [
        "# Plot all columns\n",
        "\n",
        "barplot(as.matrix(r_crosstab), beside = TRUE, legend.text = TRUE, col = c(\"red\", \"blue\"))\n"
      ],
      "metadata": {
        "colab": {
          "base_uri": "https://localhost:8080/",
          "height": 437
        },
        "id": "3HpQAovnThRj",
        "outputId": "ea055d09-7274-42ed-e44f-67d1f1ba72b0"
      },
      "execution_count": null,
      "outputs": [
        {
          "output_type": "display_data",
          "data": {
            "text/plain": [
              "plot without title"
            ],
            "image/png": "[encoded data removed]"
          },
          "metadata": {
            "image/png": {
              "width": 420,
              "height": 420
            }
          }
        }
      ]
    },
    {
      "cell_type": "markdown",
      "source": [
        "Then, I created a contingency table between sex and marital status."
      ],
      "metadata": {
        "id": "YXZrFmOO1D8Y"
      }
    },
    {
      "cell_type": "code",
      "source": [
        "r_crosstab <- table(trainingDF$sex, trainingDF$`marital-status`)\n",
        "\n",
        "ftable(r_crosstab)"
      ],
      "metadata": {
        "colab": {
          "base_uri": "https://localhost:8080/",
          "height": 86
        },
        "id": "CBYmohL3bwaf",
        "outputId": "f4ff7a3d-beef-4220-e2d0-24d26b320ad5"
      },
      "execution_count": null,
      "outputs": [
        {
          "output_type": "display_data",
          "data": {
            "text/plain": [
              "        Divorced Married-AF-spouse Married-civ-spouse Married-spouse-absent Never-married Separated Widowed\n",
              "                                                                                                           \n",
              "Female      1219                 7                761                    95          2160       290     380\n",
              "Male         795                 4               6010                   104          2717       182      73"
            ]
          },
          "metadata": {}
        }
      ]
    },
    {
      "cell_type": "code",
      "source": [
        "# Plot all columns\n",
        "\n",
        "barplot(as.matrix(r_crosstab), beside = TRUE, legend.text = TRUE, col = c(\"red\", \"blue\"))"
      ],
      "metadata": {
        "colab": {
          "base_uri": "https://localhost:8080/",
          "height": 437
        },
        "id": "GZrNEwhwGfIU",
        "outputId": "67a4b647-96f1-46ba-ee7e-2e8cd6599055"
      },
      "execution_count": null,
      "outputs": [
        {
          "output_type": "display_data",
          "data": {
            "text/plain": [
              "plot without title"
            ],
            "image/png": "[encoded data removed]"
          },
          "metadata": {
            "image/png": {
              "width": 420,
              "height": 420
            }
          }
        }
      ]
    },
    {
      "cell_type": "markdown",
      "source": [
        "From this table, I can see that more males are married in this dataset than women. And, more divorced women were a part of the data collection than divorced men. Since there is no background information given on these attributes along with the dataset, I can only assume about the relationships between two attributes."
      ],
      "metadata": {
        "id": "kVU-vEa32ksm"
      }
    },
    {
      "cell_type": "markdown",
      "source": [
        "In order to identify outliers in this dataset, I need to scale the columns to identify a normal distribution of data. In this case, I used the education column to identify outliers so I used the scale function, which uses a standard scaler."
      ],
      "metadata": {
        "id": "c9lfKwnR2nlU"
      }
    },
    {
      "cell_type": "code",
      "source": [
        "trainingDF$scaled_edu <- scale(x = trainingDF$education)\n",
        "summary(trainingDF$scaled_edu)"
      ],
      "metadata": {
        "colab": {
          "base_uri": "https://localhost:8080/",
          "height": 139
        },
        "id": "Rz6is8ufzMRn",
        "outputId": "41049be3-fc7e-457e-c096-e7e3ff58a6f8"
      },
      "execution_count": null,
      "outputs": [
        {
          "output_type": "display_data",
          "data": {
            "text/plain": [
              "       V1          \n",
              " Min.   :-3.49029  \n",
              " 1st Qu.:-0.41135  \n",
              " Median :-0.02648  \n",
              " Mean   : 0.00000  \n",
              " 3rd Qu.: 0.74326  \n",
              " Max.   : 2.28273  "
            ]
          },
          "metadata": {}
        }
      ]
    },
    {
      "cell_type": "markdown",
      "source": [
        "From this information, I can apply the 3 standard deviation rule which states that any values greater than 3 or -3 will be considered outliers for the dataset. To apply this rule here, I checked to see if each value in the education column is greater than 3 or -3 and then I printed out the sum of the amount of the outliers."
      ],
      "metadata": {
        "id": "NjjjYDkp24yv"
      }
    },
    {
      "cell_type": "code",
      "source": [
        "devRule <- (trainingDF$scaled_edu > 3 | trainingDF$scaled_edu < -3)\n",
        "# how many outliers are there?\n",
        "cat (\"There are\", sum(devRule), \"outliers \\n\\n\")"
      ],
      "metadata": {
        "colab": {
          "base_uri": "https://localhost:8080/"
        },
        "id": "X4S2-Szn8_8Y",
        "outputId": "8a544ca8-136b-4cc4-b99e-0f8b3e375884"
      },
      "execution_count": null,
      "outputs": [
        {
          "output_type": "stream",
          "name": "stdout",
          "text": [
            "There are 113 outliers \n",
            "\n"
          ]
        }
      ]
    },
    {
      "cell_type": "markdown",
      "source": [
        "Then, I applied the same process with the education outliers to the age column. First, I scaled the column."
      ],
      "metadata": {
        "id": "xbZ2Da2G3kdV"
      }
    },
    {
      "cell_type": "code",
      "source": [
        "trainingDF$scaled_age <- scale(x = trainingDF$age )\n",
        "summary(trainingDF$scaled_age)"
      ],
      "metadata": {
        "colab": {
          "base_uri": "https://localhost:8080/",
          "height": 139
        },
        "id": "LRhOe2JH-goA",
        "outputId": "7617a99c-8f9a-4313-f47b-9af34e34ae7b"
      },
      "execution_count": null,
      "outputs": [
        {
          "output_type": "display_data",
          "data": {
            "text/plain": [
              "       V1         \n",
              " Min.   :-1.5855  \n",
              " 1st Qu.:-0.7813  \n",
              " Median :-0.1234  \n",
              " Mean   : 0.0000  \n",
              " 3rd Qu.: 0.6808  \n",
              " Max.   : 3.7512  "
            ]
          },
          "metadata": {}
        }
      ]
    },
    {
      "cell_type": "markdown",
      "source": [
        "The only difference in this process is that I identified the most extreme outlier for this attirbute. In order to do this, I had to find the maximum and minimum values of the scaled values and take the absolute value. I did this because the most extreme outlier could either be positive or negative so I need to check the absolute value of the max and minimum."
      ],
      "metadata": {
        "id": "m6fB8y_J3uHe"
      }
    },
    {
      "cell_type": "code",
      "source": [
        "devRule2 <- (trainingDF$scaled_age > 3 | trainingDF$scaled_age < -3)\n",
        "# how many outliers are there?\n",
        "cat (\"There are\", sum(devRule2), \"outliers \\n\\n\")\n",
        "\n",
        "# Find the maximum and minimum values of the 'scaled_age' column\n",
        "maxOutlier <- max(trainingDF$scaled_age, na.rm = TRUE)\n",
        "minOutlier <- min(trainingDF$scaled_age, na.rm = TRUE)\n",
        "\n",
        "# Gets abs value of each outlier to determine which is larger\n",
        "if (abs(maxOutlier - 0) > abs(0 - minOutlier)) {\n",
        "  cat(maxOutlier)\n",
        "} else {\n",
        "  cat(minOutlier)\n",
        "}\n"
      ],
      "metadata": {
        "colab": {
          "base_uri": "https://localhost:8080/"
        },
        "id": "TZYG8_Yt-txp",
        "outputId": "76670375-fbd8-4fdb-b161-68a0c1527c60"
      },
      "execution_count": null,
      "outputs": [
        {
          "output_type": "stream",
          "name": "stdout",
          "text": [
            "There are 60 outliers \n",
            "\n",
            "3.751227"
          ]
        }
      ]
    },
    {
      "cell_type": "markdown",
      "source": [
        "I created a new dataframe called adultsOver80 which only contains data where the age is greater than 80."
      ],
      "metadata": {
        "id": "coG4NdbD4HIt"
      }
    },
    {
      "cell_type": "code",
      "source": [
        "#Adults over 80\n",
        "adultsOver80 <- subset(trainingDF, age >= 80)\n",
        "\n",
        "adultsOver80"
      ],
      "metadata": {
        "colab": {
          "base_uri": "https://localhost:8080/",
          "height": 1000
        },
        "id": "eqAuSdxu_vNp",
        "outputId": "63cd5959-63de-4ed6-9b0b-66aaafe87cc3"
      },
      "execution_count": null,
      "outputs": [
        {
          "output_type": "display_data",
          "data": {
            "text/html": [
              "<table class=\"dataframe\">\n",
              "<caption>A tibble: 60 × 11</caption>\n",
              "<thead>\n",
              "\t<tr><th scope=col>age</th><th scope=col>workclass</th><th scope=col>education</th><th scope=col>marital-status</th><th scope=col>occupation</th><th scope=col>sex</th><th scope=col>capital-gain</th><th scope=col>capital-loss</th><th scope=col>income</th><th scope=col>scaled_edu</th><th scope=col>scaled_age</th></tr>\n",
              "\t<tr><th scope=col>&lt;dbl&gt;</th><th scope=col>&lt;impute&gt;</th><th scope=col>&lt;dbl&gt;</th><th scope=col>&lt;chr&gt;</th><th scope=col>&lt;impute&gt;</th><th scope=col>&lt;chr&gt;</th><th scope=col>&lt;dbl&gt;</th><th scope=col>&lt;dbl&gt;</th><th scope=col>&lt;chr&gt;</th><th scope=col>&lt;dbl[,1]&gt;</th><th scope=col>&lt;dbl[,1]&gt;</th></tr>\n",
              "</thead>\n",
              "<tbody>\n",
              "\t<tr><td>90</td><td><span style=white-space:pre-wrap>Private         </span></td><td> 9</td><td><span style=white-space:pre-wrap>Never-married     </span></td><td><span style=white-space:pre-wrap>Other-service    </span></td><td><span style=white-space:pre-wrap>Male  </span></td><td><span style=white-space:pre-wrap>    0</span></td><td>2206</td><td>&lt;=50K</td><td>-0.41134550</td><td>3.751227</td></tr>\n",
              "\t<tr><td>80</td><td><span style=white-space:pre-wrap>Private         </span></td><td> 9</td><td><span style=white-space:pre-wrap>Widowed           </span></td><td><span style=white-space:pre-wrap>Prof-specialty   </span></td><td><span style=white-space:pre-wrap>Male  </span></td><td><span style=white-space:pre-wrap>    0</span></td><td><span style=white-space:pre-wrap>   0</span></td><td>&lt;=50K</td><td>-0.41134550</td><td>3.020173</td></tr>\n",
              "\t<tr><td>90</td><td><span style=white-space:pre-wrap>Private         </span></td><td> 9</td><td><span style=white-space:pre-wrap>Never-married     </span></td><td><span style=white-space:pre-wrap>Other-service    </span></td><td>Female</td><td><span style=white-space:pre-wrap>    0</span></td><td><span style=white-space:pre-wrap>   0</span></td><td>&lt;=50K</td><td>-0.41134550</td><td>3.751227</td></tr>\n",
              "\t<tr><td>88</td><td>Self-emp-not-inc</td><td>15</td><td>Married-civ-spouse</td><td><span style=white-space:pre-wrap>Prof-specialty   </span></td><td><span style=white-space:pre-wrap>Male  </span></td><td><span style=white-space:pre-wrap>    0</span></td><td><span style=white-space:pre-wrap>   0</span></td><td>&lt;=50K</td><td> 1.89785947</td><td>3.605016</td></tr>\n",
              "\t<tr><td>90</td><td><span style=white-space:pre-wrap>Private         </span></td><td>13</td><td>Married-civ-spouse</td><td><span style=white-space:pre-wrap>Exec-managerial  </span></td><td><span style=white-space:pre-wrap>Male  </span></td><td><span style=white-space:pre-wrap>    0</span></td><td><span style=white-space:pre-wrap>   0</span></td><td>&lt;=50K</td><td> 1.12812448</td><td>3.751227</td></tr>\n",
              "\t<tr><td>90</td><td><span style=white-space:pre-wrap>Private         </span></td><td>10</td><td><span style=white-space:pre-wrap>Never-married     </span></td><td><span style=white-space:pre-wrap>Other-service    </span></td><td><span style=white-space:pre-wrap>Male  </span></td><td><span style=white-space:pre-wrap>    0</span></td><td><span style=white-space:pre-wrap>   0</span></td><td>&lt;=50K</td><td>-0.02647801</td><td>3.751227</td></tr>\n",
              "\t<tr><td>82</td><td><span style=white-space:pre-wrap>Private         </span></td><td> 4</td><td><span style=white-space:pre-wrap>Widowed           </span></td><td><span style=white-space:pre-wrap>Prof-specialty   </span></td><td><span style=white-space:pre-wrap>Male  </span></td><td><span style=white-space:pre-wrap>    0</span></td><td><span style=white-space:pre-wrap>   0</span></td><td>&lt;=50K</td><td>-2.33568298</td><td>3.166384</td></tr>\n",
              "\t<tr><td>90</td><td><span style=white-space:pre-wrap>Private         </span></td><td> 5</td><td><span style=white-space:pre-wrap>Never-married     </span></td><td><span style=white-space:pre-wrap>Adm-clerical     </span></td><td>Female</td><td><span style=white-space:pre-wrap>    0</span></td><td><span style=white-space:pre-wrap>   0</span></td><td>&lt;=50K</td><td>-1.95081548</td><td>3.751227</td></tr>\n",
              "\t<tr><td>80</td><td><span style=white-space:pre-wrap>Private         </span></td><td>14</td><td><span style=white-space:pre-wrap>Widowed           </span></td><td><span style=white-space:pre-wrap>Prof-specialty   </span></td><td>Female</td><td><span style=white-space:pre-wrap>    0</span></td><td><span style=white-space:pre-wrap>   0</span></td><td>&lt;=50K</td><td> 1.51299197</td><td>3.020173</td></tr>\n",
              "\t<tr><td>90</td><td><span style=white-space:pre-wrap>Local-gov       </span></td><td>14</td><td>Married-civ-spouse</td><td><span style=white-space:pre-wrap>Exec-managerial  </span></td><td><span style=white-space:pre-wrap>Male  </span></td><td>20051</td><td><span style=white-space:pre-wrap>   0</span></td><td>&gt;50K </td><td> 1.51299197</td><td>3.751227</td></tr>\n",
              "\t<tr><td>90</td><td>Self-emp-not-inc</td><td>13</td><td>Married-civ-spouse</td><td><span style=white-space:pre-wrap>Prof-specialty   </span></td><td><span style=white-space:pre-wrap>Male  </span></td><td>10566</td><td><span style=white-space:pre-wrap>   0</span></td><td>&lt;=50K</td><td> 1.12812448</td><td>3.751227</td></tr>\n",
              "\t<tr><td>83</td><td><span style=white-space:pre-wrap>Private         </span></td><td> 9</td><td><span style=white-space:pre-wrap>Widowed           </span></td><td><span style=white-space:pre-wrap>Protective-serv  </span></td><td><span style=white-space:pre-wrap>Male  </span></td><td><span style=white-space:pre-wrap>    0</span></td><td><span style=white-space:pre-wrap>   0</span></td><td>&lt;=50K</td><td>-0.41134550</td><td>3.239489</td></tr>\n",
              "\t<tr><td>85</td><td><span style=white-space:pre-wrap>Private         </span></td><td> 9</td><td><span style=white-space:pre-wrap>Widowed           </span></td><td><span style=white-space:pre-wrap>Sales            </span></td><td><span style=white-space:pre-wrap>Male  </span></td><td><span style=white-space:pre-wrap>    0</span></td><td><span style=white-space:pre-wrap>   0</span></td><td>&lt;=50K</td><td>-0.41134550</td><td>3.385700</td></tr>\n",
              "\t<tr><td>82</td><td><span style=white-space:pre-wrap>Private         </span></td><td> 4</td><td>Married-civ-spouse</td><td>Handlers-cleaners</td><td><span style=white-space:pre-wrap>Male  </span></td><td><span style=white-space:pre-wrap>    0</span></td><td><span style=white-space:pre-wrap>   0</span></td><td>&lt;=50K</td><td>-2.33568298</td><td>3.166384</td></tr>\n",
              "\t<tr><td>80</td><td><span style=white-space:pre-wrap>Private         </span></td><td>15</td><td>Married-civ-spouse</td><td><span style=white-space:pre-wrap>Prof-specialty   </span></td><td><span style=white-space:pre-wrap>Male  </span></td><td>10605</td><td><span style=white-space:pre-wrap>   0</span></td><td>&gt;50K </td><td> 1.89785947</td><td>3.020173</td></tr>\n",
              "\t<tr><td>90</td><td><span style=white-space:pre-wrap>Private         </span></td><td> 9</td><td><span style=white-space:pre-wrap>Widowed           </span></td><td><span style=white-space:pre-wrap>Prof-specialty   </span></td><td>Female</td><td><span style=white-space:pre-wrap>    0</span></td><td>4356</td><td>&lt;=50K</td><td>-0.41134550</td><td>3.751227</td></tr>\n",
              "\t<tr><td>80</td><td>Self-emp-not-inc</td><td> 4</td><td><span style=white-space:pre-wrap>Widowed           </span></td><td><span style=white-space:pre-wrap>Farming-fishing  </span></td><td><span style=white-space:pre-wrap>Male  </span></td><td><span style=white-space:pre-wrap>    0</span></td><td><span style=white-space:pre-wrap>   0</span></td><td>&lt;=50K</td><td>-2.33568298</td><td>3.020173</td></tr>\n",
              "\t<tr><td>90</td><td>Self-emp-not-inc</td><td>10</td><td>Married-civ-spouse</td><td><span style=white-space:pre-wrap>Farming-fishing  </span></td><td><span style=white-space:pre-wrap>Male  </span></td><td><span style=white-space:pre-wrap>    0</span></td><td><span style=white-space:pre-wrap>   0</span></td><td>&lt;=50K</td><td>-0.02647801</td><td>3.751227</td></tr>\n",
              "\t<tr><td>84</td><td><span style=white-space:pre-wrap>Self-emp-inc    </span></td><td>10</td><td>Married-civ-spouse</td><td><span style=white-space:pre-wrap>Sales            </span></td><td><span style=white-space:pre-wrap>Male  </span></td><td><span style=white-space:pre-wrap>    0</span></td><td><span style=white-space:pre-wrap>   0</span></td><td>&gt;50K </td><td>-0.02647801</td><td>3.312594</td></tr>\n",
              "\t<tr><td>90</td><td><span style=white-space:pre-wrap>Private         </span></td><td>13</td><td><span style=white-space:pre-wrap>Never-married     </span></td><td><span style=white-space:pre-wrap>Exec-managerial  </span></td><td><span style=white-space:pre-wrap>Male  </span></td><td><span style=white-space:pre-wrap>    0</span></td><td><span style=white-space:pre-wrap>   0</span></td><td>&lt;=50K</td><td> 1.12812448</td><td>3.751227</td></tr>\n",
              "\t<tr><td>90</td><td><span style=white-space:pre-wrap>Private         </span></td><td> 6</td><td>Married-civ-spouse</td><td><span style=white-space:pre-wrap>Exec-managerial  </span></td><td><span style=white-space:pre-wrap>Male  </span></td><td><span style=white-space:pre-wrap>    0</span></td><td><span style=white-space:pre-wrap>   0</span></td><td>&lt;=50K</td><td>-1.56594799</td><td>3.751227</td></tr>\n",
              "\t<tr><td>84</td><td><span style=white-space:pre-wrap>Private         </span></td><td> 3</td><td><span style=white-space:pre-wrap>Widowed           </span></td><td><span style=white-space:pre-wrap>Prof-specialty   </span></td><td><span style=white-space:pre-wrap>Male  </span></td><td><span style=white-space:pre-wrap>    0</span></td><td><span style=white-space:pre-wrap>   0</span></td><td>&lt;=50K</td><td>-2.72055048</td><td>3.312594</td></tr>\n",
              "\t<tr><td>80</td><td><span style=white-space:pre-wrap>Private         </span></td><td>15</td><td>Married-civ-spouse</td><td><span style=white-space:pre-wrap>Prof-specialty   </span></td><td><span style=white-space:pre-wrap>Male  </span></td><td><span style=white-space:pre-wrap>    0</span></td><td><span style=white-space:pre-wrap>   0</span></td><td>&gt;50K </td><td> 1.89785947</td><td>3.020173</td></tr>\n",
              "\t<tr><td>90</td><td><span style=white-space:pre-wrap>Local-gov       </span></td><td>12</td><td>Married-civ-spouse</td><td><span style=white-space:pre-wrap>Adm-clerical     </span></td><td><span style=white-space:pre-wrap>Male  </span></td><td><span style=white-space:pre-wrap>    0</span></td><td><span style=white-space:pre-wrap>   0</span></td><td>&lt;=50K</td><td> 0.74325698</td><td>3.751227</td></tr>\n",
              "\t<tr><td>84</td><td><span style=white-space:pre-wrap>Private         </span></td><td> 9</td><td><span style=white-space:pre-wrap>Widowed           </span></td><td><span style=white-space:pre-wrap>Other-service    </span></td><td>Female</td><td><span style=white-space:pre-wrap>    0</span></td><td><span style=white-space:pre-wrap>   0</span></td><td>&lt;=50K</td><td>-0.41134550</td><td>3.312594</td></tr>\n",
              "\t<tr><td>90</td><td><span style=white-space:pre-wrap>Private         </span></td><td>13</td><td>Married-civ-spouse</td><td><span style=white-space:pre-wrap>Exec-managerial  </span></td><td>Female</td><td><span style=white-space:pre-wrap>    0</span></td><td><span style=white-space:pre-wrap>   0</span></td><td>&gt;50K </td><td> 1.12812448</td><td>3.751227</td></tr>\n",
              "\t<tr><td>81</td><td><span style=white-space:pre-wrap>Private         </span></td><td> 9</td><td>Married-civ-spouse</td><td><span style=white-space:pre-wrap>Prof-specialty   </span></td><td><span style=white-space:pre-wrap>Male  </span></td><td><span style=white-space:pre-wrap>    0</span></td><td><span style=white-space:pre-wrap>   0</span></td><td>&lt;=50K</td><td>-0.41134550</td><td>3.093278</td></tr>\n",
              "\t<tr><td>80</td><td>Self-emp-not-inc</td><td> 7</td><td>Married-civ-spouse</td><td><span style=white-space:pre-wrap>Exec-managerial  </span></td><td><span style=white-space:pre-wrap>Male  </span></td><td><span style=white-space:pre-wrap>    0</span></td><td><span style=white-space:pre-wrap>   0</span></td><td>&lt;=50K</td><td>-1.18108049</td><td>3.020173</td></tr>\n",
              "\t<tr><td>80</td><td><span style=white-space:pre-wrap>Private         </span></td><td>16</td><td>Married-civ-spouse</td><td><span style=white-space:pre-wrap>Prof-specialty   </span></td><td><span style=white-space:pre-wrap>Male  </span></td><td><span style=white-space:pre-wrap>    0</span></td><td><span style=white-space:pre-wrap>   0</span></td><td>&lt;=50K</td><td> 2.28272696</td><td>3.020173</td></tr>\n",
              "\t<tr><td>90</td><td><span style=white-space:pre-wrap>Private         </span></td><td>13</td><td><span style=white-space:pre-wrap>Never-married     </span></td><td><span style=white-space:pre-wrap>Prof-specialty   </span></td><td>Female</td><td><span style=white-space:pre-wrap>    0</span></td><td><span style=white-space:pre-wrap>   0</span></td><td>&lt;=50K</td><td> 1.12812448</td><td>3.751227</td></tr>\n",
              "\t<tr><td>80</td><td><span style=white-space:pre-wrap>Private         </span></td><td> 9</td><td>Married-civ-spouse</td><td><span style=white-space:pre-wrap>Prof-specialty   </span></td><td><span style=white-space:pre-wrap>Male  </span></td><td><span style=white-space:pre-wrap>    0</span></td><td><span style=white-space:pre-wrap>   0</span></td><td>&lt;=50K</td><td>-0.41134550</td><td>3.020173</td></tr>\n",
              "\t<tr><td>90</td><td><span style=white-space:pre-wrap>Private         </span></td><td>14</td><td><span style=white-space:pre-wrap>Never-married     </span></td><td><span style=white-space:pre-wrap>Exec-managerial  </span></td><td>Female</td><td><span style=white-space:pre-wrap>    0</span></td><td><span style=white-space:pre-wrap>   0</span></td><td>&lt;=50K</td><td> 1.51299197</td><td>3.751227</td></tr>\n",
              "\t<tr><td>83</td><td><span style=white-space:pre-wrap>Self-emp-inc    </span></td><td> 9</td><td><span style=white-space:pre-wrap>Divorced          </span></td><td><span style=white-space:pre-wrap>Sales            </span></td><td><span style=white-space:pre-wrap>Male  </span></td><td><span style=white-space:pre-wrap>    0</span></td><td><span style=white-space:pre-wrap>   0</span></td><td>&lt;=50K</td><td>-0.41134550</td><td>3.239489</td></tr>\n",
              "\t<tr><td>82</td><td><span style=white-space:pre-wrap>Private         </span></td><td> 6</td><td><span style=white-space:pre-wrap>Widowed           </span></td><td><span style=white-space:pre-wrap>Prof-specialty   </span></td><td><span style=white-space:pre-wrap>Male  </span></td><td><span style=white-space:pre-wrap>    0</span></td><td><span style=white-space:pre-wrap>   0</span></td><td>&lt;=50K</td><td>-1.56594799</td><td>3.166384</td></tr>\n",
              "\t<tr><td>90</td><td><span style=white-space:pre-wrap>Private         </span></td><td>10</td><td><span style=white-space:pre-wrap>Divorced          </span></td><td><span style=white-space:pre-wrap>Sales            </span></td><td>Female</td><td><span style=white-space:pre-wrap>    0</span></td><td><span style=white-space:pre-wrap>   0</span></td><td>&lt;=50K</td><td>-0.02647801</td><td>3.751227</td></tr>\n",
              "\t<tr><td>90</td><td><span style=white-space:pre-wrap>Private         </span></td><td> 9</td><td>Married-civ-spouse</td><td>Machine-op-inspct</td><td><span style=white-space:pre-wrap>Male  </span></td><td><span style=white-space:pre-wrap>    0</span></td><td><span style=white-space:pre-wrap>   0</span></td><td>&lt;=50K</td><td>-0.41134550</td><td>3.751227</td></tr>\n",
              "\t<tr><td>82</td><td><span style=white-space:pre-wrap>Private         </span></td><td> 3</td><td><span style=white-space:pre-wrap>Widowed           </span></td><td><span style=white-space:pre-wrap>Other-service    </span></td><td><span style=white-space:pre-wrap>Male  </span></td><td><span style=white-space:pre-wrap>    0</span></td><td><span style=white-space:pre-wrap>   0</span></td><td>&lt;=50K</td><td>-2.72055048</td><td>3.166384</td></tr>\n",
              "\t<tr><td>85</td><td>Self-emp-not-inc</td><td> 9</td><td><span style=white-space:pre-wrap>Widowed           </span></td><td><span style=white-space:pre-wrap>Sales            </span></td><td>Female</td><td><span style=white-space:pre-wrap>    0</span></td><td><span style=white-space:pre-wrap>   0</span></td><td>&lt;=50K</td><td>-0.41134550</td><td>3.385700</td></tr>\n",
              "\t<tr><td>81</td><td><span style=white-space:pre-wrap>Private         </span></td><td>13</td><td><span style=white-space:pre-wrap>Widowed           </span></td><td><span style=white-space:pre-wrap>Prof-specialty   </span></td><td><span style=white-space:pre-wrap>Male  </span></td><td><span style=white-space:pre-wrap>    0</span></td><td><span style=white-space:pre-wrap>   0</span></td><td>&lt;=50K</td><td> 1.12812448</td><td>3.093278</td></tr>\n",
              "\t<tr><td>81</td><td><span style=white-space:pre-wrap>Private         </span></td><td> 9</td><td>Married-civ-spouse</td><td><span style=white-space:pre-wrap>Exec-managerial  </span></td><td><span style=white-space:pre-wrap>Male  </span></td><td><span style=white-space:pre-wrap>    0</span></td><td>2377</td><td>&gt;50K </td><td>-0.41134550</td><td>3.093278</td></tr>\n",
              "\t<tr><td>90</td><td><span style=white-space:pre-wrap>Private         </span></td><td>13</td><td><span style=white-space:pre-wrap>Never-married     </span></td><td><span style=white-space:pre-wrap>Prof-specialty   </span></td><td><span style=white-space:pre-wrap>Male  </span></td><td><span style=white-space:pre-wrap>    0</span></td><td><span style=white-space:pre-wrap>   0</span></td><td>&lt;=50K</td><td> 1.12812448</td><td>3.751227</td></tr>\n",
              "\t<tr><td>82</td><td><span style=white-space:pre-wrap>Self-emp-inc    </span></td><td>10</td><td><span style=white-space:pre-wrap>Widowed           </span></td><td><span style=white-space:pre-wrap>Sales            </span></td><td><span style=white-space:pre-wrap>Male  </span></td><td><span style=white-space:pre-wrap>    0</span></td><td><span style=white-space:pre-wrap>   0</span></td><td>&lt;=50K</td><td>-0.02647801</td><td>3.166384</td></tr>\n",
              "\t<tr><td>88</td><td><span style=white-space:pre-wrap>Private         </span></td><td>10</td><td><span style=white-space:pre-wrap>Divorced          </span></td><td><span style=white-space:pre-wrap>Adm-clerical     </span></td><td>Female</td><td><span style=white-space:pre-wrap>    0</span></td><td><span style=white-space:pre-wrap>   0</span></td><td>&lt;=50K</td><td>-0.02647801</td><td>3.605016</td></tr>\n",
              "\t<tr><td>84</td><td><span style=white-space:pre-wrap>Private         </span></td><td> 3</td><td>Married-civ-spouse</td><td><span style=white-space:pre-wrap>Prof-specialty   </span></td><td><span style=white-space:pre-wrap>Male  </span></td><td><span style=white-space:pre-wrap>    0</span></td><td><span style=white-space:pre-wrap>   0</span></td><td>&lt;=50K</td><td>-2.72055048</td><td>3.312594</td></tr>\n",
              "\t<tr><td>86</td><td><span style=white-space:pre-wrap>Private         </span></td><td>14</td><td><span style=white-space:pre-wrap>Never-married     </span></td><td><span style=white-space:pre-wrap>Adm-clerical     </span></td><td>Female</td><td><span style=white-space:pre-wrap>    0</span></td><td><span style=white-space:pre-wrap>   0</span></td><td>&lt;=50K</td><td> 1.51299197</td><td>3.458805</td></tr>\n",
              "\t<tr><td>90</td><td><span style=white-space:pre-wrap>Private         </span></td><td> 2</td><td><span style=white-space:pre-wrap>Widowed           </span></td><td><span style=white-space:pre-wrap>Prof-specialty   </span></td><td>Female</td><td><span style=white-space:pre-wrap>    0</span></td><td><span style=white-space:pre-wrap>   0</span></td><td>&lt;=50K</td><td>-3.10541797</td><td>3.751227</td></tr>\n",
              "\t<tr><td>82</td><td><span style=white-space:pre-wrap>Self-emp-inc    </span></td><td> 4</td><td>Married-civ-spouse</td><td><span style=white-space:pre-wrap>Farming-fishing  </span></td><td><span style=white-space:pre-wrap>Male  </span></td><td><span style=white-space:pre-wrap>    0</span></td><td><span style=white-space:pre-wrap>   0</span></td><td>&lt;=50K</td><td>-2.33568298</td><td>3.166384</td></tr>\n",
              "\t<tr><td>81</td><td><span style=white-space:pre-wrap>Private         </span></td><td>13</td><td><span style=white-space:pre-wrap>Widowed           </span></td><td><span style=white-space:pre-wrap>Sales            </span></td><td><span style=white-space:pre-wrap>Male  </span></td><td><span style=white-space:pre-wrap>    0</span></td><td><span style=white-space:pre-wrap>   0</span></td><td>&gt;50K </td><td> 1.12812448</td><td>3.093278</td></tr>\n",
              "\t<tr><td>90</td><td><span style=white-space:pre-wrap>Private         </span></td><td> 4</td><td><span style=white-space:pre-wrap>Separated         </span></td><td><span style=white-space:pre-wrap>Prof-specialty   </span></td><td>Female</td><td><span style=white-space:pre-wrap>    0</span></td><td><span style=white-space:pre-wrap>   0</span></td><td>&lt;=50K</td><td>-2.33568298</td><td>3.751227</td></tr>\n",
              "\t<tr><td>80</td><td><span style=white-space:pre-wrap>Private         </span></td><td> 9</td><td>Married-civ-spouse</td><td><span style=white-space:pre-wrap>Prof-specialty   </span></td><td><span style=white-space:pre-wrap>Male  </span></td><td><span style=white-space:pre-wrap>    0</span></td><td><span style=white-space:pre-wrap>   0</span></td><td>&lt;=50K</td><td>-0.41134550</td><td>3.020173</td></tr>\n",
              "\t<tr><td>84</td><td><span style=white-space:pre-wrap>Private         </span></td><td> 4</td><td>Married-civ-spouse</td><td><span style=white-space:pre-wrap>Prof-specialty   </span></td><td><span style=white-space:pre-wrap>Male  </span></td><td><span style=white-space:pre-wrap>    0</span></td><td><span style=white-space:pre-wrap>   0</span></td><td>&lt;=50K</td><td>-2.33568298</td><td>3.312594</td></tr>\n",
              "\t<tr><td>90</td><td><span style=white-space:pre-wrap>Federal-gov     </span></td><td> 9</td><td>Married-civ-spouse</td><td><span style=white-space:pre-wrap>Craft-repair     </span></td><td><span style=white-space:pre-wrap>Male  </span></td><td><span style=white-space:pre-wrap>    0</span></td><td><span style=white-space:pre-wrap>   0</span></td><td>&lt;=50K</td><td>-0.41134550</td><td>3.751227</td></tr>\n",
              "\t<tr><td>81</td><td>Self-emp-not-inc</td><td> 2</td><td><span style=white-space:pre-wrap>Widowed           </span></td><td><span style=white-space:pre-wrap>Sales            </span></td><td><span style=white-space:pre-wrap>Male  </span></td><td><span style=white-space:pre-wrap>    0</span></td><td><span style=white-space:pre-wrap>   0</span></td><td>&lt;=50K</td><td>-3.10541797</td><td>3.093278</td></tr>\n",
              "\t<tr><td>90</td><td><span style=white-space:pre-wrap>Private         </span></td><td> 9</td><td>Married-civ-spouse</td><td>Machine-op-inspct</td><td><span style=white-space:pre-wrap>Male  </span></td><td><span style=white-space:pre-wrap>    0</span></td><td><span style=white-space:pre-wrap>   0</span></td><td>&lt;=50K</td><td>-0.41134550</td><td>3.751227</td></tr>\n",
              "\t<tr><td>87</td><td><span style=white-space:pre-wrap>Private         </span></td><td> 9</td><td><span style=white-space:pre-wrap>Widowed           </span></td><td><span style=white-space:pre-wrap>Prof-specialty   </span></td><td><span style=white-space:pre-wrap>Male  </span></td><td><span style=white-space:pre-wrap>    0</span></td><td><span style=white-space:pre-wrap>   0</span></td><td>&lt;=50K</td><td>-0.41134550</td><td>3.531911</td></tr>\n",
              "\t<tr><td>80</td><td>Self-emp-not-inc</td><td> 4</td><td><span style=white-space:pre-wrap>Never-married     </span></td><td><span style=white-space:pre-wrap>Farming-fishing  </span></td><td><span style=white-space:pre-wrap>Male  </span></td><td><span style=white-space:pre-wrap>    0</span></td><td><span style=white-space:pre-wrap>   0</span></td><td>&lt;=50K</td><td>-2.33568298</td><td>3.020173</td></tr>\n",
              "\t<tr><td>82</td><td>Self-emp-not-inc</td><td> 9</td><td>Married-civ-spouse</td><td><span style=white-space:pre-wrap>Farming-fishing  </span></td><td><span style=white-space:pre-wrap>Male  </span></td><td><span style=white-space:pre-wrap>    0</span></td><td><span style=white-space:pre-wrap>   0</span></td><td>&lt;=50K</td><td>-0.41134550</td><td>3.166384</td></tr>\n",
              "\t<tr><td>90</td><td><span style=white-space:pre-wrap>Private         </span></td><td> 9</td><td><span style=white-space:pre-wrap>Widowed           </span></td><td><span style=white-space:pre-wrap>Adm-clerical     </span></td><td>Female</td><td><span style=white-space:pre-wrap>    0</span></td><td><span style=white-space:pre-wrap>   0</span></td><td>&lt;=50K</td><td>-0.41134550</td><td>3.751227</td></tr>\n",
              "\t<tr><td>85</td><td><span style=white-space:pre-wrap>Private         </span></td><td>13</td><td>Married-civ-spouse</td><td><span style=white-space:pre-wrap>Exec-managerial  </span></td><td><span style=white-space:pre-wrap>Male  </span></td><td><span style=white-space:pre-wrap>    0</span></td><td><span style=white-space:pre-wrap>   0</span></td><td>&lt;=50K</td><td> 1.12812448</td><td>3.385700</td></tr>\n",
              "\t<tr><td>82</td><td><span style=white-space:pre-wrap>Private         </span></td><td> 9</td><td><span style=white-space:pre-wrap>Never-married     </span></td><td><span style=white-space:pre-wrap>Prof-specialty   </span></td><td><span style=white-space:pre-wrap>Male  </span></td><td><span style=white-space:pre-wrap>    0</span></td><td><span style=white-space:pre-wrap>   0</span></td><td>&lt;=50K</td><td>-0.41134550</td><td>3.166384</td></tr>\n",
              "</tbody>\n",
              "</table>\n"
            ],
            "text/markdown": "\nA tibble: 60 × 11\n\n| age &lt;dbl&gt; | workclass &lt;impute&gt; | education &lt;dbl&gt; | marital-status &lt;chr&gt; | occupation &lt;impute&gt; | sex &lt;chr&gt; | capital-gain &lt;dbl&gt; | capital-loss &lt;dbl&gt; | income &lt;chr&gt; | scaled_edu &lt;dbl[,1]&gt; | scaled_age &lt;dbl[,1]&gt; |\n|---|---|---|---|---|---|---|---|---|---|---|\n| 90 | Private          |  9 | Never-married      | Other-service     | Male   |     0 | 2206 | &lt;=50K | -0.41134550 | 3.751227 |\n| 80 | Private          |  9 | Widowed            | Prof-specialty    | Male   |     0 |    0 | &lt;=50K | -0.41134550 | 3.020173 |\n| 90 | Private          |  9 | Never-married      | Other-service     | Female |     0 |    0 | &lt;=50K | -0.41134550 | 3.751227 |\n| 88 | Self-emp-not-inc | 15 | Married-civ-spouse | Prof-specialty    | Male   |     0 |    0 | &lt;=50K |  1.89785947 | 3.605016 |\n| 90 | Private          | 13 | Married-civ-spouse | Exec-managerial   | Male   |     0 |    0 | &lt;=50K |  1.12812448 | 3.751227 |\n| 90 | Private          | 10 | Never-married      | Other-service     | Male   |     0 |    0 | &lt;=50K | -0.02647801 | 3.751227 |\n| 82 | Private          |  4 | Widowed            | Prof-specialty    | Male   |     0 |    0 | &lt;=50K | -2.33568298 | 3.166384 |\n| 90 | Private          |  5 | Never-married      | Adm-clerical      | Female |     0 |    0 | &lt;=50K | -1.95081548 | 3.751227 |\n| 80 | Private          | 14 | Widowed            | Prof-specialty    | Female |     0 |    0 | &lt;=50K |  1.51299197 | 3.020173 |\n| 90 | Local-gov        | 14 | Married-civ-spouse | Exec-managerial   | Male   | 20051 |    0 | &gt;50K  |  1.51299197 | 3.751227 |\n| 90 | Self-emp-not-inc | 13 | Married-civ-spouse | Prof-specialty    | Male   | 10566 |    0 | &lt;=50K |  1.12812448 | 3.751227 |\n| 83 | Private          |  9 | Widowed            | Protective-serv   | Male   |     0 |    0 | &lt;=50K | -0.41134550 | 3.239489 |\n| 85 | Private          |  9 | Widowed            | Sales             | Male   |     0 |    0 | &lt;=50K | -0.41134550 | 3.385700 |\n| 82 | Private          |  4 | Married-civ-spouse | Handlers-cleaners | Male   |     0 |    0 | &lt;=50K | -2.33568298 | 3.166384 |\n| 80 | Private          | 15 | Married-civ-spouse | Prof-specialty    | Male   | 10605 |    0 | &gt;50K  |  1.89785947 | 3.020173 |\n| 90 | Private          |  9 | Widowed            | Prof-specialty    | Female |     0 | 4356 | &lt;=50K | -0.41134550 | 3.751227 |\n| 80 | Self-emp-not-inc |  4 | Widowed            | Farming-fishing   | Male   |     0 |    0 | &lt;=50K | -2.33568298 | 3.020173 |\n| 90 | Self-emp-not-inc | 10 | Married-civ-spouse | Farming-fishing   | Male   |     0 |    0 | &lt;=50K | -0.02647801 | 3.751227 |\n| 84 | Self-emp-inc     | 10 | Married-civ-spouse | Sales             | Male   |     0 |    0 | &gt;50K  | -0.02647801 | 3.312594 |\n| 90 | Private          | 13 | Never-married      | Exec-managerial   | Male   |     0 |    0 | &lt;=50K |  1.12812448 | 3.751227 |\n| 90 | Private          |  6 | Married-civ-spouse | Exec-managerial   | Male   |     0 |    0 | &lt;=50K | -1.56594799 | 3.751227 |\n| 84 | Private          |  3 | Widowed            | Prof-specialty    | Male   |     0 |    0 | &lt;=50K | -2.72055048 | 3.312594 |\n| 80 | Private          | 15 | Married-civ-spouse | Prof-specialty    | Male   |     0 |    0 | &gt;50K  |  1.89785947 | 3.020173 |\n| 90 | Local-gov        | 12 | Married-civ-spouse | Adm-clerical      | Male   |     0 |    0 | &lt;=50K |  0.74325698 | 3.751227 |\n| 84 | Private          |  9 | Widowed            | Other-service     | Female |     0 |    0 | &lt;=50K | -0.41134550 | 3.312594 |\n| 90 | Private          | 13 | Married-civ-spouse | Exec-managerial   | Female |     0 |    0 | &gt;50K  |  1.12812448 | 3.751227 |\n| 81 | Private          |  9 | Married-civ-spouse | Prof-specialty    | Male   |     0 |    0 | &lt;=50K | -0.41134550 | 3.093278 |\n| 80 | Self-emp-not-inc |  7 | Married-civ-spouse | Exec-managerial   | Male   |     0 |    0 | &lt;=50K | -1.18108049 | 3.020173 |\n| 80 | Private          | 16 | Married-civ-spouse | Prof-specialty    | Male   |     0 |    0 | &lt;=50K |  2.28272696 | 3.020173 |\n| 90 | Private          | 13 | Never-married      | Prof-specialty    | Female |     0 |    0 | &lt;=50K |  1.12812448 | 3.751227 |\n| 80 | Private          |  9 | Married-civ-spouse | Prof-specialty    | Male   |     0 |    0 | &lt;=50K | -0.41134550 | 3.020173 |\n| 90 | Private          | 14 | Never-married      | Exec-managerial   | Female |     0 |    0 | &lt;=50K |  1.51299197 | 3.751227 |\n| 83 | Self-emp-inc     |  9 | Divorced           | Sales             | Male   |     0 |    0 | &lt;=50K | -0.41134550 | 3.239489 |\n| 82 | Private          |  6 | Widowed            | Prof-specialty    | Male   |     0 |    0 | &lt;=50K | -1.56594799 | 3.166384 |\n| 90 | Private          | 10 | Divorced           | Sales             | Female |     0 |    0 | &lt;=50K | -0.02647801 | 3.751227 |\n| 90 | Private          |  9 | Married-civ-spouse | Machine-op-inspct | Male   |     0 |    0 | &lt;=50K | -0.41134550 | 3.751227 |\n| 82 | Private          |  3 | Widowed            | Other-service     | Male   |     0 |    0 | &lt;=50K | -2.72055048 | 3.166384 |\n| 85 | Self-emp-not-inc |  9 | Widowed            | Sales             | Female |     0 |    0 | &lt;=50K | -0.41134550 | 3.385700 |\n| 81 | Private          | 13 | Widowed            | Prof-specialty    | Male   |     0 |    0 | &lt;=50K |  1.12812448 | 3.093278 |\n| 81 | Private          |  9 | Married-civ-spouse | Exec-managerial   | Male   |     0 | 2377 | &gt;50K  | -0.41134550 | 3.093278 |\n| 90 | Private          | 13 | Never-married      | Prof-specialty    | Male   |     0 |    0 | &lt;=50K |  1.12812448 | 3.751227 |\n| 82 | Self-emp-inc     | 10 | Widowed            | Sales             | Male   |     0 |    0 | &lt;=50K | -0.02647801 | 3.166384 |\n| 88 | Private          | 10 | Divorced           | Adm-clerical      | Female |     0 |    0 | &lt;=50K | -0.02647801 | 3.605016 |\n| 84 | Private          |  3 | Married-civ-spouse | Prof-specialty    | Male   |     0 |    0 | &lt;=50K | -2.72055048 | 3.312594 |\n| 86 | Private          | 14 | Never-married      | Adm-clerical      | Female |     0 |    0 | &lt;=50K |  1.51299197 | 3.458805 |\n| 90 | Private          |  2 | Widowed            | Prof-specialty    | Female |     0 |    0 | &lt;=50K | -3.10541797 | 3.751227 |\n| 82 | Self-emp-inc     |  4 | Married-civ-spouse | Farming-fishing   | Male   |     0 |    0 | &lt;=50K | -2.33568298 | 3.166384 |\n| 81 | Private          | 13 | Widowed            | Sales             | Male   |     0 |    0 | &gt;50K  |  1.12812448 | 3.093278 |\n| 90 | Private          |  4 | Separated          | Prof-specialty    | Female |     0 |    0 | &lt;=50K | -2.33568298 | 3.751227 |\n| 80 | Private          |  9 | Married-civ-spouse | Prof-specialty    | Male   |     0 |    0 | &lt;=50K | -0.41134550 | 3.020173 |\n| 84 | Private          |  4 | Married-civ-spouse | Prof-specialty    | Male   |     0 |    0 | &lt;=50K | -2.33568298 | 3.312594 |\n| 90 | Federal-gov      |  9 | Married-civ-spouse | Craft-repair      | Male   |     0 |    0 | &lt;=50K | -0.41134550 | 3.751227 |\n| 81 | Self-emp-not-inc |  2 | Widowed            | Sales             | Male   |     0 |    0 | &lt;=50K | -3.10541797 | 3.093278 |\n| 90 | Private          |  9 | Married-civ-spouse | Machine-op-inspct | Male   |     0 |    0 | &lt;=50K | -0.41134550 | 3.751227 |\n| 87 | Private          |  9 | Widowed            | Prof-specialty    | Male   |     0 |    0 | &lt;=50K | -0.41134550 | 3.531911 |\n| 80 | Self-emp-not-inc |  4 | Never-married      | Farming-fishing   | Male   |     0 |    0 | &lt;=50K | -2.33568298 | 3.020173 |\n| 82 | Self-emp-not-inc |  9 | Married-civ-spouse | Farming-fishing   | Male   |     0 |    0 | &lt;=50K | -0.41134550 | 3.166384 |\n| 90 | Private          |  9 | Widowed            | Adm-clerical      | Female |     0 |    0 | &lt;=50K | -0.41134550 | 3.751227 |\n| 85 | Private          | 13 | Married-civ-spouse | Exec-managerial   | Male   |     0 |    0 | &lt;=50K |  1.12812448 | 3.385700 |\n| 82 | Private          |  9 | Never-married      | Prof-specialty    | Male   |     0 |    0 | &lt;=50K | -0.41134550 | 3.166384 |\n\n",
            "text/latex": "A tibble: 60 × 11\n\\begin{tabular}{lllllllllll}\n age & workclass & education & marital-status & occupation & sex & capital-gain & capital-loss & income & scaled\\_edu & scaled\\_age\\\\\n <dbl> & <impute> & <dbl> & <chr> & <impute> & <chr> & <dbl> & <dbl> & <chr> & <dbl{[},1{]}> & <dbl{[},1{]}>\\\\\n\\hline\n\t 90 & Private          &  9 & Never-married      & Other-service     & Male   &     0 & 2206 & <=50K & -0.41134550 & 3.751227\\\\\n\t 80 & Private          &  9 & Widowed            & Prof-specialty    & Male   &     0 &    0 & <=50K & -0.41134550 & 3.020173\\\\\n\t 90 & Private          &  9 & Never-married      & Other-service     & Female &     0 &    0 & <=50K & -0.41134550 & 3.751227\\\\\n\t 88 & Self-emp-not-inc & 15 & Married-civ-spouse & Prof-specialty    & Male   &     0 &    0 & <=50K &  1.89785947 & 3.605016\\\\\n\t 90 & Private          & 13 & Married-civ-spouse & Exec-managerial   & Male   &     0 &    0 & <=50K &  1.12812448 & 3.751227\\\\\n\t 90 & Private          & 10 & Never-married      & Other-service     & Male   &     0 &    0 & <=50K & -0.02647801 & 3.751227\\\\\n\t 82 & Private          &  4 & Widowed            & Prof-specialty    & Male   &     0 &    0 & <=50K & -2.33568298 & 3.166384\\\\\n\t 90 & Private          &  5 & Never-married      & Adm-clerical      & Female &     0 &    0 & <=50K & -1.95081548 & 3.751227\\\\\n\t 80 & Private          & 14 & Widowed            & Prof-specialty    & Female &     0 &    0 & <=50K &  1.51299197 & 3.020173\\\\\n\t 90 & Local-gov        & 14 & Married-civ-spouse & Exec-managerial   & Male   & 20051 &    0 & >50K  &  1.51299197 & 3.751227\\\\\n\t 90 & Self-emp-not-inc & 13 & Married-civ-spouse & Prof-specialty    & Male   & 10566 &    0 & <=50K &  1.12812448 & 3.751227\\\\\n\t 83 & Private          &  9 & Widowed            & Protective-serv   & Male   &     0 &    0 & <=50K & -0.41134550 & 3.239489\\\\\n\t 85 & Private          &  9 & Widowed            & Sales             & Male   &     0 &    0 & <=50K & -0.41134550 & 3.385700\\\\\n\t 82 & Private          &  4 & Married-civ-spouse & Handlers-cleaners & Male   &     0 &    0 & <=50K & -2.33568298 & 3.166384\\\\\n\t 80 & Private          & 15 & Married-civ-spouse & Prof-specialty    & Male   & 10605 &    0 & >50K  &  1.89785947 & 3.020173\\\\\n\t 90 & Private          &  9 & Widowed            & Prof-specialty    & Female &     0 & 4356 & <=50K & -0.41134550 & 3.751227\\\\\n\t 80 & Self-emp-not-inc &  4 & Widowed            & Farming-fishing   & Male   &     0 &    0 & <=50K & -2.33568298 & 3.020173\\\\\n\t 90 & Self-emp-not-inc & 10 & Married-civ-spouse & Farming-fishing   & Male   &     0 &    0 & <=50K & -0.02647801 & 3.751227\\\\\n\t 84 & Self-emp-inc     & 10 & Married-civ-spouse & Sales             & Male   &     0 &    0 & >50K  & -0.02647801 & 3.312594\\\\\n\t 90 & Private          & 13 & Never-married      & Exec-managerial   & Male   &     0 &    0 & <=50K &  1.12812448 & 3.751227\\\\\n\t 90 & Private          &  6 & Married-civ-spouse & Exec-managerial   & Male   &     0 &    0 & <=50K & -1.56594799 & 3.751227\\\\\n\t 84 & Private          &  3 & Widowed            & Prof-specialty    & Male   &     0 &    0 & <=50K & -2.72055048 & 3.312594\\\\\n\t 80 & Private          & 15 & Married-civ-spouse & Prof-specialty    & Male   &     0 &    0 & >50K  &  1.89785947 & 3.020173\\\\\n\t 90 & Local-gov        & 12 & Married-civ-spouse & Adm-clerical      & Male   &     0 &    0 & <=50K &  0.74325698 & 3.751227\\\\\n\t 84 & Private          &  9 & Widowed            & Other-service     & Female &     0 &    0 & <=50K & -0.41134550 & 3.312594\\\\\n\t 90 & Private          & 13 & Married-civ-spouse & Exec-managerial   & Female &     0 &    0 & >50K  &  1.12812448 & 3.751227\\\\\n\t 81 & Private          &  9 & Married-civ-spouse & Prof-specialty    & Male   &     0 &    0 & <=50K & -0.41134550 & 3.093278\\\\\n\t 80 & Self-emp-not-inc &  7 & Married-civ-spouse & Exec-managerial   & Male   &     0 &    0 & <=50K & -1.18108049 & 3.020173\\\\\n\t 80 & Private          & 16 & Married-civ-spouse & Prof-specialty    & Male   &     0 &    0 & <=50K &  2.28272696 & 3.020173\\\\\n\t 90 & Private          & 13 & Never-married      & Prof-specialty    & Female &     0 &    0 & <=50K &  1.12812448 & 3.751227\\\\\n\t 80 & Private          &  9 & Married-civ-spouse & Prof-specialty    & Male   &     0 &    0 & <=50K & -0.41134550 & 3.020173\\\\\n\t 90 & Private          & 14 & Never-married      & Exec-managerial   & Female &     0 &    0 & <=50K &  1.51299197 & 3.751227\\\\\n\t 83 & Self-emp-inc     &  9 & Divorced           & Sales             & Male   &     0 &    0 & <=50K & -0.41134550 & 3.239489\\\\\n\t 82 & Private          &  6 & Widowed            & Prof-specialty    & Male   &     0 &    0 & <=50K & -1.56594799 & 3.166384\\\\\n\t 90 & Private          & 10 & Divorced           & Sales             & Female &     0 &    0 & <=50K & -0.02647801 & 3.751227\\\\\n\t 90 & Private          &  9 & Married-civ-spouse & Machine-op-inspct & Male   &     0 &    0 & <=50K & -0.41134550 & 3.751227\\\\\n\t 82 & Private          &  3 & Widowed            & Other-service     & Male   &     0 &    0 & <=50K & -2.72055048 & 3.166384\\\\\n\t 85 & Self-emp-not-inc &  9 & Widowed            & Sales             & Female &     0 &    0 & <=50K & -0.41134550 & 3.385700\\\\\n\t 81 & Private          & 13 & Widowed            & Prof-specialty    & Male   &     0 &    0 & <=50K &  1.12812448 & 3.093278\\\\\n\t 81 & Private          &  9 & Married-civ-spouse & Exec-managerial   & Male   &     0 & 2377 & >50K  & -0.41134550 & 3.093278\\\\\n\t 90 & Private          & 13 & Never-married      & Prof-specialty    & Male   &     0 &    0 & <=50K &  1.12812448 & 3.751227\\\\\n\t 82 & Self-emp-inc     & 10 & Widowed            & Sales             & Male   &     0 &    0 & <=50K & -0.02647801 & 3.166384\\\\\n\t 88 & Private          & 10 & Divorced           & Adm-clerical      & Female &     0 &    0 & <=50K & -0.02647801 & 3.605016\\\\\n\t 84 & Private          &  3 & Married-civ-spouse & Prof-specialty    & Male   &     0 &    0 & <=50K & -2.72055048 & 3.312594\\\\\n\t 86 & Private          & 14 & Never-married      & Adm-clerical      & Female &     0 &    0 & <=50K &  1.51299197 & 3.458805\\\\\n\t 90 & Private          &  2 & Widowed            & Prof-specialty    & Female &     0 &    0 & <=50K & -3.10541797 & 3.751227\\\\\n\t 82 & Self-emp-inc     &  4 & Married-civ-spouse & Farming-fishing   & Male   &     0 &    0 & <=50K & -2.33568298 & 3.166384\\\\\n\t 81 & Private          & 13 & Widowed            & Sales             & Male   &     0 &    0 & >50K  &  1.12812448 & 3.093278\\\\\n\t 90 & Private          &  4 & Separated          & Prof-specialty    & Female &     0 &    0 & <=50K & -2.33568298 & 3.751227\\\\\n\t 80 & Private          &  9 & Married-civ-spouse & Prof-specialty    & Male   &     0 &    0 & <=50K & -0.41134550 & 3.020173\\\\\n\t 84 & Private          &  4 & Married-civ-spouse & Prof-specialty    & Male   &     0 &    0 & <=50K & -2.33568298 & 3.312594\\\\\n\t 90 & Federal-gov      &  9 & Married-civ-spouse & Craft-repair      & Male   &     0 &    0 & <=50K & -0.41134550 & 3.751227\\\\\n\t 81 & Self-emp-not-inc &  2 & Widowed            & Sales             & Male   &     0 &    0 & <=50K & -3.10541797 & 3.093278\\\\\n\t 90 & Private          &  9 & Married-civ-spouse & Machine-op-inspct & Male   &     0 &    0 & <=50K & -0.41134550 & 3.751227\\\\\n\t 87 & Private          &  9 & Widowed            & Prof-specialty    & Male   &     0 &    0 & <=50K & -0.41134550 & 3.531911\\\\\n\t 80 & Self-emp-not-inc &  4 & Never-married      & Farming-fishing   & Male   &     0 &    0 & <=50K & -2.33568298 & 3.020173\\\\\n\t 82 & Self-emp-not-inc &  9 & Married-civ-spouse & Farming-fishing   & Male   &     0 &    0 & <=50K & -0.41134550 & 3.166384\\\\\n\t 90 & Private          &  9 & Widowed            & Adm-clerical      & Female &     0 &    0 & <=50K & -0.41134550 & 3.751227\\\\\n\t 85 & Private          & 13 & Married-civ-spouse & Exec-managerial   & Male   &     0 &    0 & <=50K &  1.12812448 & 3.385700\\\\\n\t 82 & Private          &  9 & Never-married      & Prof-specialty    & Male   &     0 &    0 & <=50K & -0.41134550 & 3.166384\\\\\n\\end{tabular}\n",
            "text/plain": [
              "   age workclass        education marital-status     occupation        sex   \n",
              "1  90  Private           9        Never-married      Other-service     Male  \n",
              "2  80  Private           9        Widowed            Prof-specialty    Male  \n",
              "3  90  Private           9        Never-married      Other-service     Female\n",
              "4  88  Self-emp-not-inc 15        Married-civ-spouse Prof-specialty    Male  \n",
              "5  90  Private          13        Married-civ-spouse Exec-managerial   Male  \n",
              "6  90  Private          10        Never-married      Other-service     Male  \n",
              "7  82  Private           4        Widowed            Prof-specialty    Male  \n",
              "8  90  Private           5        Never-married      Adm-clerical      Female\n",
              "9  80  Private          14        Widowed            Prof-specialty    Female\n",
              "10 90  Local-gov        14        Married-civ-spouse Exec-managerial   Male  \n",
              "11 90  Self-emp-not-inc 13        Married-civ-spouse Prof-specialty    Male  \n",
              "12 83  Private           9        Widowed            Protective-serv   Male  \n",
              "13 85  Private           9        Widowed            Sales             Male  \n",
              "14 82  Private           4        Married-civ-spouse Handlers-cleaners Male  \n",
              "15 80  Private          15        Married-civ-spouse Prof-specialty    Male  \n",
              "16 90  Private           9        Widowed            Prof-specialty    Female\n",
              "17 80  Self-emp-not-inc  4        Widowed            Farming-fishing   Male  \n",
              "18 90  Self-emp-not-inc 10        Married-civ-spouse Farming-fishing   Male  \n",
              "19 84  Self-emp-inc     10        Married-civ-spouse Sales             Male  \n",
              "20 90  Private          13        Never-married      Exec-managerial   Male  \n",
              "21 90  Private           6        Married-civ-spouse Exec-managerial   Male  \n",
              "22 84  Private           3        Widowed            Prof-specialty    Male  \n",
              "23 80  Private          15        Married-civ-spouse Prof-specialty    Male  \n",
              "24 90  Local-gov        12        Married-civ-spouse Adm-clerical      Male  \n",
              "25 84  Private           9        Widowed            Other-service     Female\n",
              "26 90  Private          13        Married-civ-spouse Exec-managerial   Female\n",
              "27 81  Private           9        Married-civ-spouse Prof-specialty    Male  \n",
              "28 80  Self-emp-not-inc  7        Married-civ-spouse Exec-managerial   Male  \n",
              "29 80  Private          16        Married-civ-spouse Prof-specialty    Male  \n",
              "30 90  Private          13        Never-married      Prof-specialty    Female\n",
              "31 80  Private           9        Married-civ-spouse Prof-specialty    Male  \n",
              "32 90  Private          14        Never-married      Exec-managerial   Female\n",
              "33 83  Self-emp-inc      9        Divorced           Sales             Male  \n",
              "34 82  Private           6        Widowed            Prof-specialty    Male  \n",
              "35 90  Private          10        Divorced           Sales             Female\n",
              "36 90  Private           9        Married-civ-spouse Machine-op-inspct Male  \n",
              "37 82  Private           3        Widowed            Other-service     Male  \n",
              "38 85  Self-emp-not-inc  9        Widowed            Sales             Female\n",
              "39 81  Private          13        Widowed            Prof-specialty    Male  \n",
              "40 81  Private           9        Married-civ-spouse Exec-managerial   Male  \n",
              "41 90  Private          13        Never-married      Prof-specialty    Male  \n",
              "42 82  Self-emp-inc     10        Widowed            Sales             Male  \n",
              "43 88  Private          10        Divorced           Adm-clerical      Female\n",
              "44 84  Private           3        Married-civ-spouse Prof-specialty    Male  \n",
              "45 86  Private          14        Never-married      Adm-clerical      Female\n",
              "46 90  Private           2        Widowed            Prof-specialty    Female\n",
              "47 82  Self-emp-inc      4        Married-civ-spouse Farming-fishing   Male  \n",
              "48 81  Private          13        Widowed            Sales             Male  \n",
              "49 90  Private           4        Separated          Prof-specialty    Female\n",
              "50 80  Private           9        Married-civ-spouse Prof-specialty    Male  \n",
              "51 84  Private           4        Married-civ-spouse Prof-specialty    Male  \n",
              "52 90  Federal-gov       9        Married-civ-spouse Craft-repair      Male  \n",
              "53 81  Self-emp-not-inc  2        Widowed            Sales             Male  \n",
              "54 90  Private           9        Married-civ-spouse Machine-op-inspct Male  \n",
              "55 87  Private           9        Widowed            Prof-specialty    Male  \n",
              "56 80  Self-emp-not-inc  4        Never-married      Farming-fishing   Male  \n",
              "57 82  Self-emp-not-inc  9        Married-civ-spouse Farming-fishing   Male  \n",
              "58 90  Private           9        Widowed            Adm-clerical      Female\n",
              "59 85  Private          13        Married-civ-spouse Exec-managerial   Male  \n",
              "60 82  Private           9        Never-married      Prof-specialty    Male  \n",
              "   capital-gain capital-loss income scaled_edu  scaled_age\n",
              "1      0        2206         <=50K  -0.41134550 3.751227  \n",
              "2      0           0         <=50K  -0.41134550 3.020173  \n",
              "3      0           0         <=50K  -0.41134550 3.751227  \n",
              "4      0           0         <=50K   1.89785947 3.605016  \n",
              "5      0           0         <=50K   1.12812448 3.751227  \n",
              "6      0           0         <=50K  -0.02647801 3.751227  \n",
              "7      0           0         <=50K  -2.33568298 3.166384  \n",
              "8      0           0         <=50K  -1.95081548 3.751227  \n",
              "9      0           0         <=50K   1.51299197 3.020173  \n",
              "10 20051           0         >50K    1.51299197 3.751227  \n",
              "11 10566           0         <=50K   1.12812448 3.751227  \n",
              "12     0           0         <=50K  -0.41134550 3.239489  \n",
              "13     0           0         <=50K  -0.41134550 3.385700  \n",
              "14     0           0         <=50K  -2.33568298 3.166384  \n",
              "15 10605           0         >50K    1.89785947 3.020173  \n",
              "16     0        4356         <=50K  -0.41134550 3.751227  \n",
              "17     0           0         <=50K  -2.33568298 3.020173  \n",
              "18     0           0         <=50K  -0.02647801 3.751227  \n",
              "19     0           0         >50K   -0.02647801 3.312594  \n",
              "20     0           0         <=50K   1.12812448 3.751227  \n",
              "21     0           0         <=50K  -1.56594799 3.751227  \n",
              "22     0           0         <=50K  -2.72055048 3.312594  \n",
              "23     0           0         >50K    1.89785947 3.020173  \n",
              "24     0           0         <=50K   0.74325698 3.751227  \n",
              "25     0           0         <=50K  -0.41134550 3.312594  \n",
              "26     0           0         >50K    1.12812448 3.751227  \n",
              "27     0           0         <=50K  -0.41134550 3.093278  \n",
              "28     0           0         <=50K  -1.18108049 3.020173  \n",
              "29     0           0         <=50K   2.28272696 3.020173  \n",
              "30     0           0         <=50K   1.12812448 3.751227  \n",
              "31     0           0         <=50K  -0.41134550 3.020173  \n",
              "32     0           0         <=50K   1.51299197 3.751227  \n",
              "33     0           0         <=50K  -0.41134550 3.239489  \n",
              "34     0           0         <=50K  -1.56594799 3.166384  \n",
              "35     0           0         <=50K  -0.02647801 3.751227  \n",
              "36     0           0         <=50K  -0.41134550 3.751227  \n",
              "37     0           0         <=50K  -2.72055048 3.166384  \n",
              "38     0           0         <=50K  -0.41134550 3.385700  \n",
              "39     0           0         <=50K   1.12812448 3.093278  \n",
              "40     0        2377         >50K   -0.41134550 3.093278  \n",
              "41     0           0         <=50K   1.12812448 3.751227  \n",
              "42     0           0         <=50K  -0.02647801 3.166384  \n",
              "43     0           0         <=50K  -0.02647801 3.605016  \n",
              "44     0           0         <=50K  -2.72055048 3.312594  \n",
              "45     0           0         <=50K   1.51299197 3.458805  \n",
              "46     0           0         <=50K  -3.10541797 3.751227  \n",
              "47     0           0         <=50K  -2.33568298 3.166384  \n",
              "48     0           0         >50K    1.12812448 3.093278  \n",
              "49     0           0         <=50K  -2.33568298 3.751227  \n",
              "50     0           0         <=50K  -0.41134550 3.020173  \n",
              "51     0           0         <=50K  -2.33568298 3.312594  \n",
              "52     0           0         <=50K  -0.41134550 3.751227  \n",
              "53     0           0         <=50K  -3.10541797 3.093278  \n",
              "54     0           0         <=50K  -0.41134550 3.751227  \n",
              "55     0           0         <=50K  -0.41134550 3.531911  \n",
              "56     0           0         <=50K  -2.33568298 3.020173  \n",
              "57     0           0         <=50K  -0.41134550 3.166384  \n",
              "58     0           0         <=50K  -0.41134550 3.751227  \n",
              "59     0           0         <=50K   1.12812448 3.385700  \n",
              "60     0           0         <=50K  -0.41134550 3.166384  "
            ]
          },
          "metadata": {}
        }
      ]
    },
    {
      "cell_type": "markdown",
      "source": [
        "I created a histogram to display the ages above 80 in this dataset."
      ],
      "metadata": {
        "id": "OjBwx_8h4j6D"
      }
    },
    {
      "cell_type": "code",
      "source": [
        "# Histogram to display frequency of ages\n",
        "hist(adultsOver80$age)\n"
      ],
      "metadata": {
        "id": "jhzm8dCqmp_w",
        "colab": {
          "base_uri": "https://localhost:8080/",
          "height": 437
        },
        "outputId": "673744cb-4f2f-4977-b446-fa6f7b92aa7e"
      },
      "execution_count": null,
      "outputs": [
        {
          "output_type": "display_data",
          "data": {
            "text/plain": [
              "Plot with title “Histogram of adultsOver80$age”"
            ],
            "image/png": "[encoded data removed]"
          },
          "metadata": {
            "image/png": {
              "width": 420,
              "height": 420
            }
          }
        }
      ]
    },
    {
      "cell_type": "markdown",
      "source": [
        "Given this histogram, I can conclude that most of the data from this age group above 80 came from people from the ages 80-82 and 88-90."
      ],
      "metadata": {
        "id": "p8G6PptW4p98"
      }
    },
    {
      "cell_type": "markdown",
      "source": [
        "For this analysis, I did not have any context for the data. There was no reference sheet to describe the data or to explain why the data was collected. As I mentioned before, I can only make assumptions about what the data could be interpreted as using common sense."
      ],
      "metadata": {
        "id": "4hl75x2DFDhY"
      }
    }
  ]
}