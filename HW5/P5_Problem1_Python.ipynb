{
  "nbformat": 4,
  "nbformat_minor": 0,
  "metadata": {
    "colab": {
      "provenance": [],
      "authorship_tag": "ABX9TyNLvdZPKawAk3zWYsRZSOb7",
      "include_colab_link": true
    },
    "kernelspec": {
      "name": "python3",
      "display_name": "Python 3"
    },
    "language_info": {
      "name": "python"
    }
  },
  "cells": [
    {
      "cell_type": "markdown",
      "metadata": {
        "id": "view-in-github",
        "colab_type": "text"
      },
      "source": [
        "<a href=\"https://colab.research.google.com/github/gabriela-148/IDS/blob/main/HW5/P5_Problem1_Python.ipynb\" target=\"_parent\"><img src=\"https://colab.research.google.com/assets/colab-badge.svg\" alt=\"Open In Colab\"/></a>"
      ]
    },
    {
      "cell_type": "markdown",
      "source": [
        "# **Gabriella Huegel**\n",
        "\n",
        "**Project 5 Report**\n",
        "\n",
        "\n",
        "**CSC346**\n",
        "\n",
        "\n",
        "**11/8/23**\n",
        "# Problem 1 - Python"
      ],
      "metadata": {
        "id": "kwLvnbaoE2aR"
      }
    },
    {
      "cell_type": "markdown",
      "source": [
        "In this project I used Google Colab to execute all the Python code. I also referenced the naiive_bayes Jupyter notebook in the IDS repository on GitHub."
      ],
      "metadata": {
        "id": "x7McHuaIE9ib"
      }
    },
    {
      "cell_type": "markdown",
      "source": [
        "To begin this project, I started by imported the wine data from a CSV file to a data frame. I imported the pandas and numpy libraries to do just that. After I imported that file, I printed out the data frame to check if the import was successful."
      ],
      "metadata": {
        "id": "Z6e-E1OlFItp"
      }
    },
    {
      "cell_type": "code",
      "execution_count": 2,
      "metadata": {
        "colab": {
          "base_uri": "https://localhost:8080/",
          "height": 424
        },
        "id": "gWt9wNsQExV7",
        "outputId": "ff9925f9-245f-4293-feeb-41279a254857"
      },
      "outputs": [
        {
          "output_type": "execute_result",
          "data": {
            "text/plain": [
              "       Type Alcohol_flag Sugar_flag\n",
              "0       Red         High       High\n",
              "1       Red         High        Low\n",
              "2       Red          Low       High\n",
              "3       Red         High        Low\n",
              "4       Red          Low        Low\n",
              "...     ...          ...        ...\n",
              "3340  White         High       High\n",
              "3341  White         High        Low\n",
              "3342  White         High        Low\n",
              "3343  White         High        Low\n",
              "3344  White         High        Low\n",
              "\n",
              "[3345 rows x 3 columns]"
            ],
            "text/html": [
              "\n",
              "  <div id=\"df-7f532fa7-a746-4e8e-82e4-35d8ef8ffab9\" class=\"colab-df-container\">\n",
              "    <div>\n",
              "<style scoped>\n",
              "    .dataframe tbody tr th:only-of-type {\n",
              "        vertical-align: middle;\n",
              "    }\n",
              "\n",
              "    .dataframe tbody tr th {\n",
              "        vertical-align: top;\n",
              "    }\n",
              "\n",
              "    .dataframe thead th {\n",
              "        text-align: right;\n",
              "    }\n",
              "</style>\n",
              "<table border=\"1\" class=\"dataframe\">\n",
              "  <thead>\n",
              "    <tr style=\"text-align: right;\">\n",
              "      <th></th>\n",
              "      <th>Type</th>\n",
              "      <th>Alcohol_flag</th>\n",
              "      <th>Sugar_flag</th>\n",
              "    </tr>\n",
              "  </thead>\n",
              "  <tbody>\n",
              "    <tr>\n",
              "      <th>0</th>\n",
              "      <td>Red</td>\n",
              "      <td>High</td>\n",
              "      <td>High</td>\n",
              "    </tr>\n",
              "    <tr>\n",
              "      <th>1</th>\n",
              "      <td>Red</td>\n",
              "      <td>High</td>\n",
              "      <td>Low</td>\n",
              "    </tr>\n",
              "    <tr>\n",
              "      <th>2</th>\n",
              "      <td>Red</td>\n",
              "      <td>Low</td>\n",
              "      <td>High</td>\n",
              "    </tr>\n",
              "    <tr>\n",
              "      <th>3</th>\n",
              "      <td>Red</td>\n",
              "      <td>High</td>\n",
              "      <td>Low</td>\n",
              "    </tr>\n",
              "    <tr>\n",
              "      <th>4</th>\n",
              "      <td>Red</td>\n",
              "      <td>Low</td>\n",
              "      <td>Low</td>\n",
              "    </tr>\n",
              "    <tr>\n",
              "      <th>...</th>\n",
              "      <td>...</td>\n",
              "      <td>...</td>\n",
              "      <td>...</td>\n",
              "    </tr>\n",
              "    <tr>\n",
              "      <th>3340</th>\n",
              "      <td>White</td>\n",
              "      <td>High</td>\n",
              "      <td>High</td>\n",
              "    </tr>\n",
              "    <tr>\n",
              "      <th>3341</th>\n",
              "      <td>White</td>\n",
              "      <td>High</td>\n",
              "      <td>Low</td>\n",
              "    </tr>\n",
              "    <tr>\n",
              "      <th>3342</th>\n",
              "      <td>White</td>\n",
              "      <td>High</td>\n",
              "      <td>Low</td>\n",
              "    </tr>\n",
              "    <tr>\n",
              "      <th>3343</th>\n",
              "      <td>White</td>\n",
              "      <td>High</td>\n",
              "      <td>Low</td>\n",
              "    </tr>\n",
              "    <tr>\n",
              "      <th>3344</th>\n",
              "      <td>White</td>\n",
              "      <td>High</td>\n",
              "      <td>Low</td>\n",
              "    </tr>\n",
              "  </tbody>\n",
              "</table>\n",
              "<p>3345 rows × 3 columns</p>\n",
              "</div>\n",
              "    <div class=\"colab-df-buttons\">\n",
              "\n",
              "  <div class=\"colab-df-container\">\n",
              "    <button class=\"colab-df-convert\" onclick=\"convertToInteractive('df-7f532fa7-a746-4e8e-82e4-35d8ef8ffab9')\"\n",
              "            title=\"Convert this dataframe to an interactive table.\"\n",
              "            style=\"display:none;\">\n",
              "\n",
              "  <svg xmlns=\"http://www.w3.org/2000/svg\" height=\"24px\" viewBox=\"0 -960 960 960\">\n",
              "    <path d=\"M120-120v-720h720v720H120Zm60-500h600v-160H180v160Zm220 220h160v-160H400v160Zm0 220h160v-160H400v160ZM180-400h160v-160H180v160Zm440 0h160v-160H620v160ZM180-180h160v-160H180v160Zm440 0h160v-160H620v160Z\"/>\n",
              "  </svg>\n",
              "    </button>\n",
              "\n",
              "  <style>\n",
              "    .colab-df-container {\n",
              "      display:flex;\n",
              "      gap: 12px;\n",
              "    }\n",
              "\n",
              "    .colab-df-convert {\n",
              "      background-color: #E8F0FE;\n",
              "      border: none;\n",
              "      border-radius: 50%;\n",
              "      cursor: pointer;\n",
              "      display: none;\n",
              "      fill: #1967D2;\n",
              "      height: 32px;\n",
              "      padding: 0 0 0 0;\n",
              "      width: 32px;\n",
              "    }\n",
              "\n",
              "    .colab-df-convert:hover {\n",
              "      background-color: #E2EBFA;\n",
              "      box-shadow: 0px 1px 2px rgba(60, 64, 67, 0.3), 0px 1px 3px 1px rgba(60, 64, 67, 0.15);\n",
              "      fill: #174EA6;\n",
              "    }\n",
              "\n",
              "    .colab-df-buttons div {\n",
              "      margin-bottom: 4px;\n",
              "    }\n",
              "\n",
              "    [theme=dark] .colab-df-convert {\n",
              "      background-color: #3B4455;\n",
              "      fill: #D2E3FC;\n",
              "    }\n",
              "\n",
              "    [theme=dark] .colab-df-convert:hover {\n",
              "      background-color: #434B5C;\n",
              "      box-shadow: 0px 1px 3px 1px rgba(0, 0, 0, 0.15);\n",
              "      filter: drop-shadow(0px 1px 2px rgba(0, 0, 0, 0.3));\n",
              "      fill: #FFFFFF;\n",
              "    }\n",
              "  </style>\n",
              "\n",
              "    <script>\n",
              "      const buttonEl =\n",
              "        document.querySelector('#df-7f532fa7-a746-4e8e-82e4-35d8ef8ffab9 button.colab-df-convert');\n",
              "      buttonEl.style.display =\n",
              "        google.colab.kernel.accessAllowed ? 'block' : 'none';\n",
              "\n",
              "      async function convertToInteractive(key) {\n",
              "        const element = document.querySelector('#df-7f532fa7-a746-4e8e-82e4-35d8ef8ffab9');\n",
              "        const dataTable =\n",
              "          await google.colab.kernel.invokeFunction('convertToInteractive',\n",
              "                                                    [key], {});\n",
              "        if (!dataTable) return;\n",
              "\n",
              "        const docLinkHtml = 'Like what you see? Visit the ' +\n",
              "          '<a target=\"_blank\" href=https://colab.research.google.com/notebooks/data_table.ipynb>data table notebook</a>'\n",
              "          + ' to learn more about interactive tables.';\n",
              "        element.innerHTML = '';\n",
              "        dataTable['output_type'] = 'display_data';\n",
              "        await google.colab.output.renderOutput(dataTable, element);\n",
              "        const docLink = document.createElement('div');\n",
              "        docLink.innerHTML = docLinkHtml;\n",
              "        element.appendChild(docLink);\n",
              "      }\n",
              "    </script>\n",
              "  </div>\n",
              "\n",
              "\n",
              "<div id=\"df-b79ac2b5-d02a-4b57-b970-57e02c8c8c7e\">\n",
              "  <button class=\"colab-df-quickchart\" onclick=\"quickchart('df-b79ac2b5-d02a-4b57-b970-57e02c8c8c7e')\"\n",
              "            title=\"Suggest charts\"\n",
              "            style=\"display:none;\">\n",
              "\n",
              "<svg xmlns=\"http://www.w3.org/2000/svg\" height=\"24px\"viewBox=\"0 0 24 24\"\n",
              "     width=\"24px\">\n",
              "    <g>\n",
              "        <path d=\"M19 3H5c-1.1 0-2 .9-2 2v14c0 1.1.9 2 2 2h14c1.1 0 2-.9 2-2V5c0-1.1-.9-2-2-2zM9 17H7v-7h2v7zm4 0h-2V7h2v10zm4 0h-2v-4h2v4z\"/>\n",
              "    </g>\n",
              "</svg>\n",
              "  </button>\n",
              "\n",
              "<style>\n",
              "  .colab-df-quickchart {\n",
              "      --bg-color: #E8F0FE;\n",
              "      --fill-color: #1967D2;\n",
              "      --hover-bg-color: #E2EBFA;\n",
              "      --hover-fill-color: #174EA6;\n",
              "      --disabled-fill-color: #AAA;\n",
              "      --disabled-bg-color: #DDD;\n",
              "  }\n",
              "\n",
              "  [theme=dark] .colab-df-quickchart {\n",
              "      --bg-color: #3B4455;\n",
              "      --fill-color: #D2E3FC;\n",
              "      --hover-bg-color: #434B5C;\n",
              "      --hover-fill-color: #FFFFFF;\n",
              "      --disabled-bg-color: #3B4455;\n",
              "      --disabled-fill-color: #666;\n",
              "  }\n",
              "\n",
              "  .colab-df-quickchart {\n",
              "    background-color: var(--bg-color);\n",
              "    border: none;\n",
              "    border-radius: 50%;\n",
              "    cursor: pointer;\n",
              "    display: none;\n",
              "    fill: var(--fill-color);\n",
              "    height: 32px;\n",
              "    padding: 0;\n",
              "    width: 32px;\n",
              "  }\n",
              "\n",
              "  .colab-df-quickchart:hover {\n",
              "    background-color: var(--hover-bg-color);\n",
              "    box-shadow: 0 1px 2px rgba(60, 64, 67, 0.3), 0 1px 3px 1px rgba(60, 64, 67, 0.15);\n",
              "    fill: var(--button-hover-fill-color);\n",
              "  }\n",
              "\n",
              "  .colab-df-quickchart-complete:disabled,\n",
              "  .colab-df-quickchart-complete:disabled:hover {\n",
              "    background-color: var(--disabled-bg-color);\n",
              "    fill: var(--disabled-fill-color);\n",
              "    box-shadow: none;\n",
              "  }\n",
              "\n",
              "  .colab-df-spinner {\n",
              "    border: 2px solid var(--fill-color);\n",
              "    border-color: transparent;\n",
              "    border-bottom-color: var(--fill-color);\n",
              "    animation:\n",
              "      spin 1s steps(1) infinite;\n",
              "  }\n",
              "\n",
              "  @keyframes spin {\n",
              "    0% {\n",
              "      border-color: transparent;\n",
              "      border-bottom-color: var(--fill-color);\n",
              "      border-left-color: var(--fill-color);\n",
              "    }\n",
              "    20% {\n",
              "      border-color: transparent;\n",
              "      border-left-color: var(--fill-color);\n",
              "      border-top-color: var(--fill-color);\n",
              "    }\n",
              "    30% {\n",
              "      border-color: transparent;\n",
              "      border-left-color: var(--fill-color);\n",
              "      border-top-color: var(--fill-color);\n",
              "      border-right-color: var(--fill-color);\n",
              "    }\n",
              "    40% {\n",
              "      border-color: transparent;\n",
              "      border-right-color: var(--fill-color);\n",
              "      border-top-color: var(--fill-color);\n",
              "    }\n",
              "    60% {\n",
              "      border-color: transparent;\n",
              "      border-right-color: var(--fill-color);\n",
              "    }\n",
              "    80% {\n",
              "      border-color: transparent;\n",
              "      border-right-color: var(--fill-color);\n",
              "      border-bottom-color: var(--fill-color);\n",
              "    }\n",
              "    90% {\n",
              "      border-color: transparent;\n",
              "      border-bottom-color: var(--fill-color);\n",
              "    }\n",
              "  }\n",
              "</style>\n",
              "\n",
              "  <script>\n",
              "    async function quickchart(key) {\n",
              "      const quickchartButtonEl =\n",
              "        document.querySelector('#' + key + ' button');\n",
              "      quickchartButtonEl.disabled = true;  // To prevent multiple clicks.\n",
              "      quickchartButtonEl.classList.add('colab-df-spinner');\n",
              "      try {\n",
              "        const charts = await google.colab.kernel.invokeFunction(\n",
              "            'suggestCharts', [key], {});\n",
              "      } catch (error) {\n",
              "        console.error('Error during call to suggestCharts:', error);\n",
              "      }\n",
              "      quickchartButtonEl.classList.remove('colab-df-spinner');\n",
              "      quickchartButtonEl.classList.add('colab-df-quickchart-complete');\n",
              "    }\n",
              "    (() => {\n",
              "      let quickchartButtonEl =\n",
              "        document.querySelector('#df-b79ac2b5-d02a-4b57-b970-57e02c8c8c7e button');\n",
              "      quickchartButtonEl.style.display =\n",
              "        google.colab.kernel.accessAllowed ? 'block' : 'none';\n",
              "    })();\n",
              "  </script>\n",
              "</div>\n",
              "    </div>\n",
              "  </div>\n"
            ]
          },
          "metadata": {},
          "execution_count": 2
        }
      ],
      "source": [
        "# Import the necessary libaries\n",
        "import pandas as pd\n",
        "import numpy as np\n",
        "\n",
        "wineDF = pd.read_csv(\"https://raw.githubusercontent.com/bforoura/IDS/main/HW5/wine_flag_all.csv\")\n",
        "\n",
        "wineDF"
      ]
    },
    {
      "cell_type": "markdown",
      "source": [
        "The next step is to cleanse the data which I could accomplish by checking if there are any missing values. Since the dataset is too large to check by hand, I checked using the is.na() method."
      ],
      "metadata": {
        "id": "8Q4uNTU6HaeC"
      }
    },
    {
      "cell_type": "code",
      "source": [
        "# Check to see if any NA or missing values in the wineDF\n",
        "print(wineDF.isnull().sum())"
      ],
      "metadata": {
        "colab": {
          "base_uri": "https://localhost:8080/"
        },
        "id": "4aN9ESzUHumf",
        "outputId": "a3eb7221-251f-492c-ff7c-c9496aaecbee"
      },
      "execution_count": 3,
      "outputs": [
        {
          "output_type": "stream",
          "name": "stdout",
          "text": [
            "Type            0\n",
            "Alcohol_flag    0\n",
            "Sugar_flag      0\n",
            "dtype: int64\n"
          ]
        }
      ]
    },
    {
      "cell_type": "markdown",
      "source": [
        "There are no null values so I continued with my analysis."
      ],
      "metadata": {
        "id": "4p1EWXuXIC4L"
      }
    },
    {
      "cell_type": "markdown",
      "source": [
        "Next, I started to prepare the data. In this case, all of the column are categorical which is not ideal for Bayes' thereom or creating models. To change this, I had to convert all of the catergorical values to a numerical value. I achieved this using the LabelEncoder library in Python."
      ],
      "metadata": {
        "id": "hhaEE9OmFoyk"
      }
    },
    {
      "cell_type": "code",
      "source": [
        "# Import label encoder library\n",
        "from sklearn import preprocessing\n",
        "le = preprocessing.LabelEncoder()\n",
        "\n",
        "# save the encoded dataframe here\n",
        "encoded_wineDF = pd.DataFrame()\n",
        "\n",
        "# Encode  only the categoric or boolean attributes\n",
        "for i in range(0, wineDF.shape[1]):\n",
        "    if wineDF.dtypes[i]=='object' or wineDF.dtypes[i]=='bool':\n",
        "        encoded_wineDF[wineDF.columns[i]] = le.fit_transform(wineDF[wineDF.columns[i]])\n",
        "\n",
        "\n",
        "\n",
        "print(\"-=========================\")\n",
        "print(wineDF)\n",
        "print(\"-=========================\")\n",
        "encoded_wineDF\n",
        "\n"
      ],
      "metadata": {
        "colab": {
          "base_uri": "https://localhost:8080/",
          "height": 701
        },
        "id": "XLtHxCJdGAIt",
        "outputId": "3587457d-9411-44fd-d697-564ce319cdc8"
      },
      "execution_count": 4,
      "outputs": [
        {
          "output_type": "stream",
          "name": "stdout",
          "text": [
            "-=========================\n",
            "       Type Alcohol_flag Sugar_flag\n",
            "0       Red         High       High\n",
            "1       Red         High        Low\n",
            "2       Red          Low       High\n",
            "3       Red         High        Low\n",
            "4       Red          Low        Low\n",
            "...     ...          ...        ...\n",
            "3340  White         High       High\n",
            "3341  White         High        Low\n",
            "3342  White         High        Low\n",
            "3343  White         High        Low\n",
            "3344  White         High        Low\n",
            "\n",
            "[3345 rows x 3 columns]\n",
            "-=========================\n"
          ]
        },
        {
          "output_type": "execute_result",
          "data": {
            "text/plain": [
              "      Type  Alcohol_flag  Sugar_flag\n",
              "0        0             0           0\n",
              "1        0             0           1\n",
              "2        0             1           0\n",
              "3        0             0           1\n",
              "4        0             1           1\n",
              "...    ...           ...         ...\n",
              "3340     1             0           0\n",
              "3341     1             0           1\n",
              "3342     1             0           1\n",
              "3343     1             0           1\n",
              "3344     1             0           1\n",
              "\n",
              "[3345 rows x 3 columns]"
            ],
            "text/html": [
              "\n",
              "  <div id=\"df-4be84f53-9aa2-41de-b2fa-24c143b63dc9\" class=\"colab-df-container\">\n",
              "    <div>\n",
              "<style scoped>\n",
              "    .dataframe tbody tr th:only-of-type {\n",
              "        vertical-align: middle;\n",
              "    }\n",
              "\n",
              "    .dataframe tbody tr th {\n",
              "        vertical-align: top;\n",
              "    }\n",
              "\n",
              "    .dataframe thead th {\n",
              "        text-align: right;\n",
              "    }\n",
              "</style>\n",
              "<table border=\"1\" class=\"dataframe\">\n",
              "  <thead>\n",
              "    <tr style=\"text-align: right;\">\n",
              "      <th></th>\n",
              "      <th>Type</th>\n",
              "      <th>Alcohol_flag</th>\n",
              "      <th>Sugar_flag</th>\n",
              "    </tr>\n",
              "  </thead>\n",
              "  <tbody>\n",
              "    <tr>\n",
              "      <th>0</th>\n",
              "      <td>0</td>\n",
              "      <td>0</td>\n",
              "      <td>0</td>\n",
              "    </tr>\n",
              "    <tr>\n",
              "      <th>1</th>\n",
              "      <td>0</td>\n",
              "      <td>0</td>\n",
              "      <td>1</td>\n",
              "    </tr>\n",
              "    <tr>\n",
              "      <th>2</th>\n",
              "      <td>0</td>\n",
              "      <td>1</td>\n",
              "      <td>0</td>\n",
              "    </tr>\n",
              "    <tr>\n",
              "      <th>3</th>\n",
              "      <td>0</td>\n",
              "      <td>0</td>\n",
              "      <td>1</td>\n",
              "    </tr>\n",
              "    <tr>\n",
              "      <th>4</th>\n",
              "      <td>0</td>\n",
              "      <td>1</td>\n",
              "      <td>1</td>\n",
              "    </tr>\n",
              "    <tr>\n",
              "      <th>...</th>\n",
              "      <td>...</td>\n",
              "      <td>...</td>\n",
              "      <td>...</td>\n",
              "    </tr>\n",
              "    <tr>\n",
              "      <th>3340</th>\n",
              "      <td>1</td>\n",
              "      <td>0</td>\n",
              "      <td>0</td>\n",
              "    </tr>\n",
              "    <tr>\n",
              "      <th>3341</th>\n",
              "      <td>1</td>\n",
              "      <td>0</td>\n",
              "      <td>1</td>\n",
              "    </tr>\n",
              "    <tr>\n",
              "      <th>3342</th>\n",
              "      <td>1</td>\n",
              "      <td>0</td>\n",
              "      <td>1</td>\n",
              "    </tr>\n",
              "    <tr>\n",
              "      <th>3343</th>\n",
              "      <td>1</td>\n",
              "      <td>0</td>\n",
              "      <td>1</td>\n",
              "    </tr>\n",
              "    <tr>\n",
              "      <th>3344</th>\n",
              "      <td>1</td>\n",
              "      <td>0</td>\n",
              "      <td>1</td>\n",
              "    </tr>\n",
              "  </tbody>\n",
              "</table>\n",
              "<p>3345 rows × 3 columns</p>\n",
              "</div>\n",
              "    <div class=\"colab-df-buttons\">\n",
              "\n",
              "  <div class=\"colab-df-container\">\n",
              "    <button class=\"colab-df-convert\" onclick=\"convertToInteractive('df-4be84f53-9aa2-41de-b2fa-24c143b63dc9')\"\n",
              "            title=\"Convert this dataframe to an interactive table.\"\n",
              "            style=\"display:none;\">\n",
              "\n",
              "  <svg xmlns=\"http://www.w3.org/2000/svg\" height=\"24px\" viewBox=\"0 -960 960 960\">\n",
              "    <path d=\"M120-120v-720h720v720H120Zm60-500h600v-160H180v160Zm220 220h160v-160H400v160Zm0 220h160v-160H400v160ZM180-400h160v-160H180v160Zm440 0h160v-160H620v160ZM180-180h160v-160H180v160Zm440 0h160v-160H620v160Z\"/>\n",
              "  </svg>\n",
              "    </button>\n",
              "\n",
              "  <style>\n",
              "    .colab-df-container {\n",
              "      display:flex;\n",
              "      gap: 12px;\n",
              "    }\n",
              "\n",
              "    .colab-df-convert {\n",
              "      background-color: #E8F0FE;\n",
              "      border: none;\n",
              "      border-radius: 50%;\n",
              "      cursor: pointer;\n",
              "      display: none;\n",
              "      fill: #1967D2;\n",
              "      height: 32px;\n",
              "      padding: 0 0 0 0;\n",
              "      width: 32px;\n",
              "    }\n",
              "\n",
              "    .colab-df-convert:hover {\n",
              "      background-color: #E2EBFA;\n",
              "      box-shadow: 0px 1px 2px rgba(60, 64, 67, 0.3), 0px 1px 3px 1px rgba(60, 64, 67, 0.15);\n",
              "      fill: #174EA6;\n",
              "    }\n",
              "\n",
              "    .colab-df-buttons div {\n",
              "      margin-bottom: 4px;\n",
              "    }\n",
              "\n",
              "    [theme=dark] .colab-df-convert {\n",
              "      background-color: #3B4455;\n",
              "      fill: #D2E3FC;\n",
              "    }\n",
              "\n",
              "    [theme=dark] .colab-df-convert:hover {\n",
              "      background-color: #434B5C;\n",
              "      box-shadow: 0px 1px 3px 1px rgba(0, 0, 0, 0.15);\n",
              "      filter: drop-shadow(0px 1px 2px rgba(0, 0, 0, 0.3));\n",
              "      fill: #FFFFFF;\n",
              "    }\n",
              "  </style>\n",
              "\n",
              "    <script>\n",
              "      const buttonEl =\n",
              "        document.querySelector('#df-4be84f53-9aa2-41de-b2fa-24c143b63dc9 button.colab-df-convert');\n",
              "      buttonEl.style.display =\n",
              "        google.colab.kernel.accessAllowed ? 'block' : 'none';\n",
              "\n",
              "      async function convertToInteractive(key) {\n",
              "        const element = document.querySelector('#df-4be84f53-9aa2-41de-b2fa-24c143b63dc9');\n",
              "        const dataTable =\n",
              "          await google.colab.kernel.invokeFunction('convertToInteractive',\n",
              "                                                    [key], {});\n",
              "        if (!dataTable) return;\n",
              "\n",
              "        const docLinkHtml = 'Like what you see? Visit the ' +\n",
              "          '<a target=\"_blank\" href=https://colab.research.google.com/notebooks/data_table.ipynb>data table notebook</a>'\n",
              "          + ' to learn more about interactive tables.';\n",
              "        element.innerHTML = '';\n",
              "        dataTable['output_type'] = 'display_data';\n",
              "        await google.colab.output.renderOutput(dataTable, element);\n",
              "        const docLink = document.createElement('div');\n",
              "        docLink.innerHTML = docLinkHtml;\n",
              "        element.appendChild(docLink);\n",
              "      }\n",
              "    </script>\n",
              "  </div>\n",
              "\n",
              "\n",
              "<div id=\"df-820770a6-ae05-4334-942e-f698035195c2\">\n",
              "  <button class=\"colab-df-quickchart\" onclick=\"quickchart('df-820770a6-ae05-4334-942e-f698035195c2')\"\n",
              "            title=\"Suggest charts\"\n",
              "            style=\"display:none;\">\n",
              "\n",
              "<svg xmlns=\"http://www.w3.org/2000/svg\" height=\"24px\"viewBox=\"0 0 24 24\"\n",
              "     width=\"24px\">\n",
              "    <g>\n",
              "        <path d=\"M19 3H5c-1.1 0-2 .9-2 2v14c0 1.1.9 2 2 2h14c1.1 0 2-.9 2-2V5c0-1.1-.9-2-2-2zM9 17H7v-7h2v7zm4 0h-2V7h2v10zm4 0h-2v-4h2v4z\"/>\n",
              "    </g>\n",
              "</svg>\n",
              "  </button>\n",
              "\n",
              "<style>\n",
              "  .colab-df-quickchart {\n",
              "      --bg-color: #E8F0FE;\n",
              "      --fill-color: #1967D2;\n",
              "      --hover-bg-color: #E2EBFA;\n",
              "      --hover-fill-color: #174EA6;\n",
              "      --disabled-fill-color: #AAA;\n",
              "      --disabled-bg-color: #DDD;\n",
              "  }\n",
              "\n",
              "  [theme=dark] .colab-df-quickchart {\n",
              "      --bg-color: #3B4455;\n",
              "      --fill-color: #D2E3FC;\n",
              "      --hover-bg-color: #434B5C;\n",
              "      --hover-fill-color: #FFFFFF;\n",
              "      --disabled-bg-color: #3B4455;\n",
              "      --disabled-fill-color: #666;\n",
              "  }\n",
              "\n",
              "  .colab-df-quickchart {\n",
              "    background-color: var(--bg-color);\n",
              "    border: none;\n",
              "    border-radius: 50%;\n",
              "    cursor: pointer;\n",
              "    display: none;\n",
              "    fill: var(--fill-color);\n",
              "    height: 32px;\n",
              "    padding: 0;\n",
              "    width: 32px;\n",
              "  }\n",
              "\n",
              "  .colab-df-quickchart:hover {\n",
              "    background-color: var(--hover-bg-color);\n",
              "    box-shadow: 0 1px 2px rgba(60, 64, 67, 0.3), 0 1px 3px 1px rgba(60, 64, 67, 0.15);\n",
              "    fill: var(--button-hover-fill-color);\n",
              "  }\n",
              "\n",
              "  .colab-df-quickchart-complete:disabled,\n",
              "  .colab-df-quickchart-complete:disabled:hover {\n",
              "    background-color: var(--disabled-bg-color);\n",
              "    fill: var(--disabled-fill-color);\n",
              "    box-shadow: none;\n",
              "  }\n",
              "\n",
              "  .colab-df-spinner {\n",
              "    border: 2px solid var(--fill-color);\n",
              "    border-color: transparent;\n",
              "    border-bottom-color: var(--fill-color);\n",
              "    animation:\n",
              "      spin 1s steps(1) infinite;\n",
              "  }\n",
              "\n",
              "  @keyframes spin {\n",
              "    0% {\n",
              "      border-color: transparent;\n",
              "      border-bottom-color: var(--fill-color);\n",
              "      border-left-color: var(--fill-color);\n",
              "    }\n",
              "    20% {\n",
              "      border-color: transparent;\n",
              "      border-left-color: var(--fill-color);\n",
              "      border-top-color: var(--fill-color);\n",
              "    }\n",
              "    30% {\n",
              "      border-color: transparent;\n",
              "      border-left-color: var(--fill-color);\n",
              "      border-top-color: var(--fill-color);\n",
              "      border-right-color: var(--fill-color);\n",
              "    }\n",
              "    40% {\n",
              "      border-color: transparent;\n",
              "      border-right-color: var(--fill-color);\n",
              "      border-top-color: var(--fill-color);\n",
              "    }\n",
              "    60% {\n",
              "      border-color: transparent;\n",
              "      border-right-color: var(--fill-color);\n",
              "    }\n",
              "    80% {\n",
              "      border-color: transparent;\n",
              "      border-right-color: var(--fill-color);\n",
              "      border-bottom-color: var(--fill-color);\n",
              "    }\n",
              "    90% {\n",
              "      border-color: transparent;\n",
              "      border-bottom-color: var(--fill-color);\n",
              "    }\n",
              "  }\n",
              "</style>\n",
              "\n",
              "  <script>\n",
              "    async function quickchart(key) {\n",
              "      const quickchartButtonEl =\n",
              "        document.querySelector('#' + key + ' button');\n",
              "      quickchartButtonEl.disabled = true;  // To prevent multiple clicks.\n",
              "      quickchartButtonEl.classList.add('colab-df-spinner');\n",
              "      try {\n",
              "        const charts = await google.colab.kernel.invokeFunction(\n",
              "            'suggestCharts', [key], {});\n",
              "      } catch (error) {\n",
              "        console.error('Error during call to suggestCharts:', error);\n",
              "      }\n",
              "      quickchartButtonEl.classList.remove('colab-df-spinner');\n",
              "      quickchartButtonEl.classList.add('colab-df-quickchart-complete');\n",
              "    }\n",
              "    (() => {\n",
              "      let quickchartButtonEl =\n",
              "        document.querySelector('#df-820770a6-ae05-4334-942e-f698035195c2 button');\n",
              "      quickchartButtonEl.style.display =\n",
              "        google.colab.kernel.accessAllowed ? 'block' : 'none';\n",
              "    })();\n",
              "  </script>\n",
              "</div>\n",
              "    </div>\n",
              "  </div>\n"
            ]
          },
          "metadata": {},
          "execution_count": 4
        }
      ]
    },
    {
      "cell_type": "markdown",
      "source": [
        "Now, the data is classified as either 0 or 1. In the type column, 0 means red wine and 1 means white wine. In the alcohol and sugar columns, 0 means high and 1 means low."
      ],
      "metadata": {
        "id": "odYGEeNlGWc8"
      }
    },
    {
      "cell_type": "markdown",
      "source": [
        "Next, I created a contingency table for Type of Wine and alcohol content."
      ],
      "metadata": {
        "id": "_iFH4LjTI-zn"
      }
    },
    {
      "cell_type": "code",
      "source": [
        "# Cross tabulation of Wine Type and Alcohol Content\n",
        "\n",
        "p_crosstab = pd.crosstab(wineDF.Type, wineDF.Alcohol_flag)\n",
        "\n",
        "print(p_crosstab)"
      ],
      "metadata": {
        "colab": {
          "base_uri": "https://localhost:8080/"
        },
        "id": "PZsgoBMTJGde",
        "outputId": "6bf67507-a5f8-49d6-ee48-1c5568d8863f"
      },
      "execution_count": 5,
      "outputs": [
        {
          "output_type": "stream",
          "name": "stdout",
          "text": [
            "Alcohol_flag  High   Low\n",
            "Type                    \n",
            "Red            485   600\n",
            "White         1176  1084\n"
          ]
        }
      ]
    },
    {
      "cell_type": "markdown",
      "source": [
        "Then, I created a barplot of the table from above."
      ],
      "metadata": {
        "id": "Ndk8MZwIJXAF"
      }
    },
    {
      "cell_type": "code",
      "source": [
        "# Creating barplot\n",
        "\n",
        "# x label rotation\n",
        "barplot = p_crosstab.plot.bar(rot=0)"
      ],
      "metadata": {
        "colab": {
          "base_uri": "https://localhost:8080/",
          "height": 449
        },
        "id": "E6Mzc3Z0Jbny",
        "outputId": "7e2b15e0-2fb6-41e3-f285-530813312ddc"
      },
      "execution_count": 6,
      "outputs": [
        {
          "output_type": "display_data",
          "data": {
            "text/plain": [
              "<Figure size 640x480 with 1 Axes>"
            ],
            "image/png": "[encoded data removed]"
          },
          "metadata": {}
        }
      ]
    },
    {
      "cell_type": "markdown",
      "source": [
        "From this barplot I can conclude that white wine appears more often than red wine in this dataset. but also, white wine is more likely to have higher alchol content than red wine."
      ],
      "metadata": {
        "id": "l-essMxEJgX1"
      }
    },
    {
      "cell_type": "markdown",
      "source": [
        "Next, I did the same table for type and sugar content."
      ],
      "metadata": {
        "id": "_z0-FUiaJSgP"
      }
    },
    {
      "cell_type": "code",
      "source": [
        "# Cross tabulation of Wine Type and Sugar Content\n",
        "\n",
        "p_crosstab = pd.crosstab(wineDF.Type, wineDF.Sugar_flag)\n",
        "\n",
        "print(p_crosstab)"
      ],
      "metadata": {
        "colab": {
          "base_uri": "https://localhost:8080/"
        },
        "id": "SGSL8EH2J8jn",
        "outputId": "9413e81c-8fa2-4e75-956c-6dacafedad8d"
      },
      "execution_count": 7,
      "outputs": [
        {
          "output_type": "stream",
          "name": "stdout",
          "text": [
            "Sugar_flag  High  Low\n",
            "Type                 \n",
            "Red          237  848\n",
            "White       1382  878\n"
          ]
        }
      ]
    },
    {
      "cell_type": "markdown",
      "source": [
        "I created a barplot after that."
      ],
      "metadata": {
        "id": "GR9K8qQjKEow"
      }
    },
    {
      "cell_type": "code",
      "source": [
        "# Creating barplot\n",
        "\n",
        "# x label rotation\n",
        "barplot = p_crosstab.plot.bar(rot=0)"
      ],
      "metadata": {
        "colab": {
          "base_uri": "https://localhost:8080/",
          "height": 449
        },
        "id": "aVyZq5QNKHsI",
        "outputId": "45d1d73a-221d-460a-8da9-2e12df867cce"
      },
      "execution_count": 8,
      "outputs": [
        {
          "output_type": "display_data",
          "data": {
            "text/plain": [
              "<Figure size 640x480 with 1 Axes>"
            ],
            "image/png": "[encoded data removed]"
          },
          "metadata": {}
        }
      ]
    },
    {
      "cell_type": "markdown",
      "source": [
        "From this barplot I can conclude that white wine is more likely to have high sugar content compared to red wine."
      ],
      "metadata": {
        "id": "Y6BcnD1aKKfQ"
      }
    },
    {
      "cell_type": "markdown",
      "source": [
        "Then, I calcuated the prior probability of the type of wine being either white or red."
      ],
      "metadata": {
        "id": "50sbhfvWK5M0"
      }
    },
    {
      "cell_type": "code",
      "source": [
        "# Total number of wines in DF\n",
        "print(len(encoded_wineDF.Type))\n",
        "\n",
        "# Total number of Red\n",
        "redCount = 0\n",
        "for item in encoded_wineDF.Type:\n",
        "  if(item == 0):\n",
        "    redCount += 1\n",
        "\n",
        "print(redCount)\n",
        "\n",
        "# Total number of White\n",
        "whiteCount = 0\n",
        "for item in encoded_wineDF.Type:\n",
        "  if(item == 1):\n",
        "    whiteCount += 1\n",
        "\n",
        "print(whiteCount)\n",
        "\n",
        "#Probability of Red\n",
        "print( (redCount/len(encoded_wineDF.Type) * 100))\n",
        "\n",
        "#Probability of White\n",
        "print( (whiteCount/len(encoded_wineDF.Type) * 100))\n",
        "\n"
      ],
      "metadata": {
        "id": "FE7MY_EVLcDx",
        "colab": {
          "base_uri": "https://localhost:8080/"
        },
        "outputId": "fe3d4604-00dd-456c-ce9a-1edd06638e44"
      },
      "execution_count": 25,
      "outputs": [
        {
          "output_type": "stream",
          "name": "stdout",
          "text": [
            "3345\n",
            "1085\n",
            "2260\n",
            "32.436472346786246\n",
            "67.56352765321375\n"
          ]
        }
      ]
    },
    {
      "cell_type": "markdown",
      "source": [
        "Based off the calculations above, the probability that a wine from this list would be Red is around 32% and the probability the wine is white is around 67%."
      ],
      "metadata": {
        "id": "iO9TR2pV2ACZ"
      }
    },
    {
      "cell_type": "markdown",
      "source": [
        "Next, I calculated the probability of high and low alcohol content."
      ],
      "metadata": {
        "id": "sWk7dG1zLEub"
      }
    },
    {
      "cell_type": "code",
      "source": [
        "# Total number of alcohol flags in DF\n",
        "print(len(encoded_wineDF.Alcohol_flag))\n",
        "\n",
        "# Total number of high alcohol\n",
        "highCount = 0\n",
        "for item in encoded_wineDF.Alcohol_flag:\n",
        "  if(item == 0):\n",
        "    highCount += 1\n",
        "\n",
        "print(highCount)\n",
        "\n",
        "# Total number of low alcohol\n",
        "lowCount = 0\n",
        "for item in encoded_wineDF.Alcohol_flag:\n",
        "  if(item == 1):\n",
        "    lowCount += 1\n",
        "\n",
        "print(lowCount)\n",
        "\n",
        "#Probability of high alcohol\n",
        "print( (highCount/len(encoded_wineDF.Alcohol_flag) * 100))\n",
        "\n",
        "#Probability of low alcohol\n",
        "print( (lowCount/len(encoded_wineDF.Alcohol_flag) * 100))"
      ],
      "metadata": {
        "id": "ywisbDnELcf3",
        "colab": {
          "base_uri": "https://localhost:8080/"
        },
        "outputId": "30357c87-e42c-4a79-fa4f-1b372ead8f26"
      },
      "execution_count": 22,
      "outputs": [
        {
          "output_type": "stream",
          "name": "stdout",
          "text": [
            "3345\n",
            "1661\n",
            "1684\n",
            "49.65620328849029\n",
            "50.34379671150971\n"
          ]
        }
      ]
    },
    {
      "cell_type": "markdown",
      "source": [
        "Based on the calcuations I made, the probability that the wine has a high alcohol content is around 49% and the probability the alcohol content is low is around 50%."
      ],
      "metadata": {
        "id": "rKHLtHJE3P_4"
      }
    },
    {
      "cell_type": "markdown",
      "source": [
        "Followed by probability of high and low sugar content."
      ],
      "metadata": {
        "id": "vjvQredELLmy"
      }
    },
    {
      "cell_type": "code",
      "source": [
        "# Total number of sugar content data in DF\n",
        "print(len(encoded_wineDF.Sugar_flag))\n",
        "\n",
        "# Total number of high sugar\n",
        "highCount = 0\n",
        "for item in encoded_wineDF.Sugar_flag:\n",
        "  if(item == 0):\n",
        "    highCount += 1\n",
        "\n",
        "print(highCount)\n",
        "\n",
        "# Total number of low sugar\n",
        "lowCount = 0\n",
        "for item in encoded_wineDF.Sugar_flag:\n",
        "  if(item == 1):\n",
        "    lowCount += 1\n",
        "\n",
        "print(lowCount)\n",
        "\n",
        "#Probability of high sugar\n",
        "print( (highCount/len(encoded_wineDF.Sugar_flag) * 100))\n",
        "\n",
        "#Probability of low sugar\n",
        "print( (lowCount/len(encoded_wineDF.Sugar_flag) * 100))"
      ],
      "metadata": {
        "id": "0U3q2mMnLc9t",
        "colab": {
          "base_uri": "https://localhost:8080/"
        },
        "outputId": "e135439e-9d8c-48db-d539-8811b6bcb31f"
      },
      "execution_count": 23,
      "outputs": [
        {
          "output_type": "stream",
          "name": "stdout",
          "text": [
            "3345\n",
            "1619\n",
            "1726\n",
            "48.40059790732437\n",
            "51.59940209267564\n"
          ]
        }
      ]
    },
    {
      "cell_type": "markdown",
      "source": [
        "Based on the calculations I made, the probability the wine has a high sugar content is 48% and the prbability the wine has a low sugar content is 51%."
      ],
      "metadata": {
        "id": "Kkw0e9It3s9Q"
      }
    },
    {
      "cell_type": "markdown",
      "source": [
        "Then by the conditional probabilities p(Alcohol_flag = High ∣ Type = Red) and p(Alcohol_flag = Low ∣ Type = Red). I used the .shape[0] method in order to help the calculations go smoother as the for loop would have gotten more complicated to run successfully."
      ],
      "metadata": {
        "id": "ppJ2A-12LRLj"
      }
    },
    {
      "cell_type": "code",
      "source": [
        "# Probability that alcohol is high and the type is Red :\n",
        "highRedCount = wineDF[(encoded_wineDF['Type'] == 0) & (encoded_wineDF['Alcohol_flag'] == 0)].shape[0]\n",
        "print(highRedCount)\n",
        "\n",
        "print(highRedCount / len(encoded_wineDF.Type) *100)\n",
        "\n",
        "# Probability that alcohol is low and the type is Red :\n",
        "lowRedCount = wineDF[(encoded_wineDF['Type'] == 0) & (encoded_wineDF['Alcohol_flag'] == 1)].shape[0]\n",
        "print(lowRedCount)\n",
        "\n",
        "print(lowRedCount / len(encoded_wineDF.Type) *100)"
      ],
      "metadata": {
        "id": "1iosVJ6_Lddp",
        "colab": {
          "base_uri": "https://localhost:8080/"
        },
        "outputId": "835b535b-2bfc-498c-f962-8cf62dc5f4e5"
      },
      "execution_count": 34,
      "outputs": [
        {
          "output_type": "stream",
          "name": "stdout",
          "text": [
            "485\n",
            "14.499252615844544\n",
            "600\n",
            "17.937219730941703\n"
          ]
        }
      ]
    },
    {
      "cell_type": "markdown",
      "source": [
        "Given this calculations, I can see that the probability that a wine is Red and has a high alcohol content is around 14%. And the probability that a wine is Red and has a low alcohol content is around 17%."
      ],
      "metadata": {
        "id": "5iBqJV-m8Hq-"
      }
    },
    {
      "cell_type": "markdown",
      "source": [
        "Finally, I calculated the conditional probabilities p(Sugar_flag = High ∣ Type = Red) and p(Sugar_flag = Low ∣ Type = Red)."
      ],
      "metadata": {
        "id": "4xhwEaUkLWJt"
      }
    },
    {
      "cell_type": "code",
      "source": [
        "# Probability that sugar is high and the type is Red :\n",
        "highRedCount = wineDF[(encoded_wineDF['Type'] == 0) & (encoded_wineDF['Sugar_flag'] == 0)].shape[0]\n",
        "print(highRedCount)\n",
        "\n",
        "print(highRedCount / len(encoded_wineDF.Type) *100)\n",
        "\n",
        "# Probability that sugar is low and the type is Red :\n",
        "lowRedCount = wineDF[(encoded_wineDF['Type'] == 0) & (encoded_wineDF['Sugar_flag'] == 1)].shape[0]\n",
        "print(lowRedCount)\n",
        "\n",
        "print(lowRedCount / len(encoded_wineDF.Type) *100)"
      ],
      "metadata": {
        "id": "kAkrX_3VLd7g",
        "colab": {
          "base_uri": "https://localhost:8080/"
        },
        "outputId": "8891c994-ee67-44fa-fcd8-64eb7f6d0d7f"
      },
      "execution_count": 36,
      "outputs": [
        {
          "output_type": "stream",
          "name": "stdout",
          "text": [
            "237\n",
            "7.085201793721973\n",
            "848\n",
            "25.351270553064275\n"
          ]
        }
      ]
    },
    {
      "cell_type": "markdown",
      "source": [
        "Given this calculations, I can see that the probability that a wine is Red and has a high sugar content is around 7%. And the probability that a wine is Red and has a low sugar content is around 25%."
      ],
      "metadata": {
        "id": "a_RYZd6F8708"
      }
    },
    {
      "cell_type": "markdown",
      "source": [
        "Since I have now cleansed and prepped the data, I could start to test and train the data. In order to do this, I used the naiive bayes classifier GaussianNB. The reason I chose this over the other classifiers is that this is more general and fits better in the terms of my analysis. I used a 80:20 testing ratio first."
      ],
      "metadata": {
        "id": "MDkyTdKZGpoU"
      }
    },
    {
      "cell_type": "code",
      "source": [
        "# Generating various Naive Bayes models\n",
        "from sklearn.naive_bayes import GaussianNB\n",
        "from sklearn.model_selection import train_test_split\n",
        "\n",
        "NBmodel = GaussianNB()\n",
        "\n",
        "\n",
        "# Train the model using training set for approach #2\n",
        "#NBmodel.fit(features, labels)\n",
        "\n",
        "# Prepare input and output for learning\n",
        "X = encoded_wineDF.iloc[:,0:3]\n",
        "y = encoded_wineDF.iloc[:,2]\n",
        "\n",
        "# In order to have the same proportion of 0 and 1 classes in a dataset to train, use 'stratify'\n",
        "X_train, X_test, y_train, y_test = \\\n",
        "    train_test_split(X, y, random_state=42, shuffle=True, test_size=0.20, stratify=y)\n",
        "\n",
        "# Display the sets\n",
        "print(X_train)\n",
        "print(X_test)\n"
      ],
      "metadata": {
        "colab": {
          "base_uri": "https://localhost:8080/"
        },
        "id": "y8tQcK6vIgIU",
        "outputId": "5df813c7-421f-4af0-b6f3-81e180f95b80"
      },
      "execution_count": null,
      "outputs": [
        {
          "output_type": "stream",
          "name": "stdout",
          "text": [
            "      Type  Alcohol_flag  Sugar_flag\n",
            "1783     1             1           0\n",
            "110      0             1           0\n",
            "2936     1             0           0\n",
            "2326     1             1           1\n",
            "612      1             1           0\n",
            "...    ...           ...         ...\n",
            "3074     1             0           1\n",
            "2259     1             1           0\n",
            "1524     0             0           1\n",
            "1629     1             1           1\n",
            "512      1             1           0\n",
            "\n",
            "[2676 rows x 3 columns]\n",
            "      Type  Alcohol_flag  Sugar_flag\n",
            "1779     1             1           0\n",
            "3176     1             0           1\n",
            "2544     1             0           0\n",
            "1470     0             0           1\n",
            "810      1             0           0\n",
            "...    ...           ...         ...\n",
            "1979     1             1           0\n",
            "2923     1             0           0\n",
            "1518     0             0           0\n",
            "998      1             1           1\n",
            "1342     0             0           0\n",
            "\n",
            "[669 rows x 3 columns]\n"
          ]
        }
      ]
    },
    {
      "cell_type": "markdown",
      "source": [
        "Now, I can test the accuracy of the model I created above using the matplot library."
      ],
      "metadata": {
        "id": "Eq_9cTToKltz"
      }
    },
    {
      "cell_type": "code",
      "source": [
        "import matplotlib.pyplot as plt\n",
        "\n",
        "# Train the model\n",
        "NBmodel.fit(X_train, y_train)\n",
        "\n",
        "# Calculate model accuracy on both training and test data\n",
        "labels = [\"Training\", \"Test\"]\n",
        "scores = [NBmodel.score(X_train, y_train), NBmodel.score(X_test, y_test)]\n",
        "\n",
        "\n",
        "# Plot the accuracy claues\n",
        "fig = plt.figure()\n",
        "ax = fig.add_axes([0,0,1,1])\n",
        "ax.set_title('Model Classification Accuary on Training vs. Test Data')\n",
        "ax.bar(labels, scores, color=\"orange\")\n",
        "ax.set_ylim(0, 1)\n",
        "plt.show()\n"
      ],
      "metadata": {
        "colab": {
          "base_uri": "https://localhost:8080/",
          "height": 563
        },
        "id": "LdrlwkkDKtzh",
        "outputId": "1f5450a7-41df-4e8d-b8db-43169147c6e5"
      },
      "execution_count": null,
      "outputs": [
        {
          "output_type": "display_data",
          "data": {
            "text/plain": [
              "<Figure size 640x480 with 1 Axes>"
            ],
            "image/png": "[encoded data removed]"
          },
          "metadata": {}
        }
      ]
    },
    {
      "cell_type": "markdown",
      "source": [
        "Then I used a 75:25 testing ratio."
      ],
      "metadata": {
        "id": "IWKyUWVXAQ4M"
      }
    },
    {
      "cell_type": "code",
      "source": [
        "# Generating various Naive Bayes models\n",
        "from sklearn.naive_bayes import GaussianNB\n",
        "from sklearn.model_selection import train_test_split\n",
        "\n",
        "NBmodel = GaussianNB()\n",
        "\n",
        "\n",
        "# Train the model using training set for approach #2\n",
        "#NBmodel.fit(features, labels)\n",
        "\n",
        "# Prepare input and output for learning\n",
        "X = encoded_wineDF.iloc[:,0:3]\n",
        "y = encoded_wineDF.iloc[:,2]\n",
        "\n",
        "# In order to have the same proportion of 0 and 1 classes in a dataset to train, use 'stratify'\n",
        "X_train, X_test, y_train, y_test = \\\n",
        "    train_test_split(X, y, random_state=42, shuffle=True, test_size=0.25, stratify=y)\n",
        "\n",
        "# Display the sets\n",
        "print(X_train)\n",
        "print(X_test)"
      ],
      "metadata": {
        "colab": {
          "base_uri": "https://localhost:8080/"
        },
        "id": "fkewOLcKApUO",
        "outputId": "06f968f4-2a97-474b-c0b8-d4eca6c6dbb5"
      },
      "execution_count": 41,
      "outputs": [
        {
          "output_type": "stream",
          "name": "stdout",
          "text": [
            "      Type  Alcohol_flag  Sugar_flag\n",
            "3005     1             0           0\n",
            "647      1             0           1\n",
            "561      1             0           1\n",
            "1089     0             1           1\n",
            "254      0             0           1\n",
            "...    ...           ...         ...\n",
            "2755     1             0           1\n",
            "2259     1             1           0\n",
            "2213     1             1           1\n",
            "943      1             1           0\n",
            "512      1             1           0\n",
            "\n",
            "[3320 rows x 3 columns]\n",
            "      Type  Alcohol_flag  Sugar_flag\n",
            "507      1             1           0\n",
            "2223     1             1           0\n",
            "770      1             1           1\n",
            "1493     0             0           1\n",
            "975      1             0           1\n",
            "2366     1             1           1\n",
            "1181     0             1           1\n",
            "2591     1             0           1\n",
            "434      0             0           1\n",
            "361      0             0           1\n",
            "3045     1             0           0\n",
            "2698     1             0           0\n",
            "2390     1             1           0\n",
            "2384     1             1           0\n",
            "2582     1             0           0\n",
            "2315     1             1           1\n",
            "2410     1             1           1\n",
            "2767     1             0           1\n",
            "3095     1             0           0\n",
            "1401     0             0           1\n",
            "46       0             1           1\n",
            "1298     0             1           0\n",
            "839      1             0           0\n",
            "2314     1             1           0\n",
            "1967     1             1           0\n"
          ]
        }
      ]
    },
    {
      "cell_type": "code",
      "source": [
        "import matplotlib.pyplot as plt\n",
        "\n",
        "# Train the model\n",
        "NBmodel.fit(X_train, y_train)\n",
        "\n",
        "# Calculate model accuracy on both training and test data\n",
        "labels = [\"Training\", \"Test\"]\n",
        "scores = [NBmodel.score(X_train, y_train), NBmodel.score(X_test, y_test)]\n",
        "\n",
        "\n",
        "# Plot the accuracy claues\n",
        "fig = plt.figure()\n",
        "ax = fig.add_axes([0,0,1,1])\n",
        "ax.set_title('Model Classification Accuary on Training vs. Test Data')\n",
        "ax.bar(labels, scores, color=\"orange\")\n",
        "ax.set_ylim(0, 1)\n",
        "plt.show()\n"
      ],
      "metadata": {
        "colab": {
          "base_uri": "https://localhost:8080/",
          "height": 563
        },
        "id": "qt0iTIV_AuU9",
        "outputId": "a03fa2e7-4e23-48c3-90c6-439b7981df2a"
      },
      "execution_count": 42,
      "outputs": [
        {
          "output_type": "display_data",
          "data": {
            "text/plain": [
              "<Figure size 640x480 with 1 Axes>"
            ],
            "image/png": "[encoded data removed]"
          },
          "metadata": {}
        }
      ]
    },
    {
      "cell_type": "markdown",
      "source": [
        "Next, was a 70:30."
      ],
      "metadata": {
        "id": "PXrCP7YbAbet"
      }
    },
    {
      "cell_type": "code",
      "source": [
        "# Generating various Naive Bayes models\n",
        "from sklearn.naive_bayes import GaussianNB\n",
        "from sklearn.model_selection import train_test_split\n",
        "\n",
        "NBmodel = GaussianNB()\n",
        "\n",
        "\n",
        "# Train the model using training set for approach #2\n",
        "#NBmodel.fit(features, labels)\n",
        "\n",
        "# Prepare input and output for learning\n",
        "X = encoded_wineDF.iloc[:,0:3]\n",
        "y = encoded_wineDF.iloc[:,2]\n",
        "\n",
        "# In order to have the same proportion of 0 and 1 classes in a dataset to train, use 'stratify'\n",
        "X_train, X_test, y_train, y_test = \\\n",
        "    train_test_split(X, y, random_state=42, shuffle=True, test_size=0.30, stratify=y)\n",
        "\n",
        "# Display the sets\n",
        "print(X_train)\n",
        "print(X_test)"
      ],
      "metadata": {
        "colab": {
          "base_uri": "https://localhost:8080/"
        },
        "id": "jOWzhbbeA7Uq",
        "outputId": "4384a748-82b4-4abd-d6d8-78e1f471c077"
      },
      "execution_count": 43,
      "outputs": [
        {
          "output_type": "stream",
          "name": "stdout",
          "text": [
            "      Type  Alcohol_flag  Sugar_flag\n",
            "3202     1             0           1\n",
            "910      1             0           0\n",
            "3059     1             0           0\n",
            "3094     1             0           1\n",
            "1606     1             1           0\n",
            "...    ...           ...         ...\n",
            "399      0             1           1\n",
            "2259     1             1           0\n",
            "2887     1             0           1\n",
            "943      1             1           0\n",
            "512      1             1           0\n",
            "\n",
            "[3315 rows x 3 columns]\n",
            "      Type  Alcohol_flag  Sugar_flag\n",
            "770      1             1           1\n",
            "46       0             1           1\n",
            "2591     1             0           1\n",
            "839      1             0           0\n",
            "1493     0             0           1\n",
            "1967     1             1           0\n",
            "361      0             0           1\n",
            "2767     1             0           1\n",
            "1181     0             1           1\n",
            "434      0             0           1\n",
            "507      1             1           0\n",
            "2698     1             0           0\n",
            "2384     1             1           0\n",
            "1572     0             0           1\n",
            "371      0             1           0\n",
            "1401     0             0           1\n",
            "2366     1             1           1\n",
            "250      0             1           1\n",
            "3095     1             0           0\n",
            "2922     1             0           0\n",
            "2315     1             1           1\n",
            "2314     1             1           0\n",
            "975      1             0           1\n",
            "2582     1             0           0\n",
            "2410     1             1           1\n",
            "3045     1             0           0\n",
            "2370     1             1           0\n",
            "2223     1             1           0\n",
            "1298     0             1           0\n",
            "2390     1             1           0\n"
          ]
        }
      ]
    },
    {
      "cell_type": "code",
      "source": [
        "import matplotlib.pyplot as plt\n",
        "\n",
        "# Train the model\n",
        "NBmodel.fit(X_train, y_train)\n",
        "\n",
        "# Calculate model accuracy on both training and test data\n",
        "labels = [\"Training\", \"Test\"]\n",
        "scores = [NBmodel.score(X_train, y_train), NBmodel.score(X_test, y_test)]\n",
        "\n",
        "\n",
        "# Plot the accuracy claues\n",
        "fig = plt.figure()\n",
        "ax = fig.add_axes([0,0,1,1])\n",
        "ax.set_title('Model Classification Accuary on Training vs. Test Data')\n",
        "ax.bar(labels, scores, color=\"orange\")\n",
        "ax.set_ylim(0, 1)\n",
        "plt.show()\n"
      ],
      "metadata": {
        "colab": {
          "base_uri": "https://localhost:8080/",
          "height": 563
        },
        "id": "adJOy8u3A7pF",
        "outputId": "7f61fb6c-3d72-47d2-c157-c5a18a86600a"
      },
      "execution_count": 44,
      "outputs": [
        {
          "output_type": "display_data",
          "data": {
            "text/plain": [
              "<Figure size 640x480 with 1 Axes>"
            ],
            "image/png": "[encoded data removed]"
          },
          "metadata": {}
        }
      ]
    },
    {
      "cell_type": "markdown",
      "source": [
        "Followed by a 60:40 testing ratio."
      ],
      "metadata": {
        "id": "4bJ0xE6IAd-a"
      }
    },
    {
      "cell_type": "code",
      "source": [
        "# Generating various Naive Bayes models\n",
        "from sklearn.naive_bayes import GaussianNB\n",
        "from sklearn.model_selection import train_test_split\n",
        "\n",
        "NBmodel = GaussianNB()\n",
        "\n",
        "\n",
        "# Train the model using training set for approach #2\n",
        "#NBmodel.fit(features, labels)\n",
        "\n",
        "# Prepare input and output for learning\n",
        "X = encoded_wineDF.iloc[:,0:3]\n",
        "y = encoded_wineDF.iloc[:,2]\n",
        "\n",
        "# In order to have the same proportion of 0 and 1 classes in a dataset to train, use 'stratify'\n",
        "X_train, X_test, y_train, y_test = \\\n",
        "    train_test_split(X, y, random_state=42, shuffle=True, test_size=0.40, stratify=y)\n",
        "\n",
        "# Display the sets\n",
        "print(X_train)\n",
        "print(X_test)"
      ],
      "metadata": {
        "colab": {
          "base_uri": "https://localhost:8080/"
        },
        "id": "0Z4vT1EDA8tK",
        "outputId": "03d63789-6c89-494e-b481-17f7db0a34da"
      },
      "execution_count": 45,
      "outputs": [
        {
          "output_type": "stream",
          "name": "stdout",
          "text": [
            "      Type  Alcohol_flag  Sugar_flag\n",
            "2758     1             0           0\n",
            "3306     1             0           0\n",
            "260      0             1           1\n",
            "2943     1             0           1\n",
            "77       0             0           1\n",
            "...    ...           ...         ...\n",
            "3177     1             0           1\n",
            "2259     1             1           0\n",
            "1263     0             1           1\n",
            "943      1             1           0\n",
            "512      1             1           0\n",
            "\n",
            "[3305 rows x 3 columns]\n",
            "      Type  Alcohol_flag  Sugar_flag\n",
            "46       0             1           1\n",
            "3095     1             0           0\n",
            "2223     1             1           0\n",
            "518      1             1           0\n",
            "2370     1             1           0\n",
            "3045     1             0           0\n",
            "770      1             1           1\n",
            "361      0             0           1\n",
            "2591     1             0           1\n",
            "1363     0             0           1\n",
            "2366     1             1           1\n",
            "250      0             1           1\n",
            "2315     1             1           1\n",
            "28       0             1           1\n",
            "1298     0             1           0\n",
            "434      0             0           1\n",
            "544      1             0           1\n",
            "839      1             0           0\n",
            "2698     1             0           0\n",
            "507      1             1           0\n",
            "1403     0             0           1\n",
            "876      1             0           1\n",
            "2390     1             1           0\n",
            "2384     1             1           0\n",
            "1493     0             0           1\n",
            "975      1             0           1\n",
            "1967     1             1           0\n",
            "1181     0             1           1\n",
            "1145     0             1           1\n",
            "1980     1             1           0\n",
            "2410     1             1           1\n",
            "2769     1             0           0\n",
            "1572     0             0           1\n",
            "2767     1             0           1\n",
            "2582     1             0           0\n",
            "2922     1             0           0\n",
            "1401     0             0           1\n",
            "2314     1             1           0\n",
            "1856     1             1           0\n",
            "371      0             1           0\n"
          ]
        }
      ]
    },
    {
      "cell_type": "code",
      "source": [
        "import matplotlib.pyplot as plt\n",
        "\n",
        "# Train the model\n",
        "NBmodel.fit(X_train, y_train)\n",
        "\n",
        "# Calculate model accuracy on both training and test data\n",
        "labels = [\"Training\", \"Test\"]\n",
        "scores = [NBmodel.score(X_train, y_train), NBmodel.score(X_test, y_test)]\n",
        "\n",
        "\n",
        "# Plot the accuracy claues\n",
        "fig = plt.figure()\n",
        "ax = fig.add_axes([0,0,1,1])\n",
        "ax.set_title('Model Classification Accuary on Training vs. Test Data')\n",
        "ax.bar(labels, scores, color=\"orange\")\n",
        "ax.set_ylim(0, 1)\n",
        "plt.show()\n"
      ],
      "metadata": {
        "colab": {
          "base_uri": "https://localhost:8080/",
          "height": 563
        },
        "id": "0f5qYD_LA8yk",
        "outputId": "80718a4e-93f9-454a-c8a3-75a03f1cfeda"
      },
      "execution_count": 46,
      "outputs": [
        {
          "output_type": "display_data",
          "data": {
            "text/plain": [
              "<Figure size 640x480 with 1 Axes>"
            ],
            "image/png": "[encoded data removed]"
          },
          "metadata": {}
        }
      ]
    },
    {
      "cell_type": "markdown",
      "source": [
        "And finally, I used a 50:50 testing ratio."
      ],
      "metadata": {
        "id": "0v6QNhWNAgsk"
      }
    },
    {
      "cell_type": "code",
      "source": [
        "# Generating various Naive Bayes models\n",
        "from sklearn.naive_bayes import GaussianNB\n",
        "from sklearn.model_selection import train_test_split\n",
        "\n",
        "NBmodel = GaussianNB()\n",
        "\n",
        "\n",
        "# Train the model using training set for approach #2\n",
        "#NBmodel.fit(features, labels)\n",
        "\n",
        "# Prepare input and output for learning\n",
        "X = encoded_wineDF.iloc[:,0:3]\n",
        "y = encoded_wineDF.iloc[:,2]\n",
        "\n",
        "# In order to have the same proportion of 0 and 1 classes in a dataset to train, use 'stratify'\n",
        "X_train, X_test, y_train, y_test = \\\n",
        "    train_test_split(X, y, random_state=42, shuffle=True, test_size=0.50, stratify=y)\n",
        "\n",
        "# Display the sets\n",
        "print(X_train)\n",
        "print(X_test)"
      ],
      "metadata": {
        "colab": {
          "base_uri": "https://localhost:8080/"
        },
        "id": "vEF4qcYLA90f",
        "outputId": "33eb269b-9575-48cf-a799-fcea900095a2"
      },
      "execution_count": 47,
      "outputs": [
        {
          "output_type": "stream",
          "name": "stdout",
          "text": [
            "      Type  Alcohol_flag  Sugar_flag\n",
            "2026     1             1           0\n",
            "201      0             1           0\n",
            "837      1             1           0\n",
            "623      1             1           0\n",
            "293      0             1           1\n",
            "...    ...           ...         ...\n",
            "2369     1             1           1\n",
            "2259     1             1           0\n",
            "1052     0             1           1\n",
            "943      1             1           0\n",
            "512      1             1           0\n",
            "\n",
            "[3295 rows x 3 columns]\n",
            "      Type  Alcohol_flag  Sugar_flag\n",
            "1181     0             1           1\n",
            "518      1             1           0\n",
            "434      0             0           1\n",
            "1967     1             1           0\n",
            "46       0             1           1\n",
            "271      0             0           1\n",
            "860      1             0           0\n",
            "1572     0             0           1\n",
            "1493     0             0           1\n",
            "2591     1             0           1\n",
            "3095     1             0           0\n",
            "2767     1             0           1\n",
            "1899     1             1           0\n",
            "2922     1             0           0\n",
            "2410     1             1           1\n",
            "2390     1             1           0\n",
            "745      1             0           1\n",
            "2384     1             1           0\n",
            "1980     1             1           0\n",
            "1298     0             1           0\n",
            "371      0             1           0\n",
            "2476     1             0           1\n",
            "876      1             0           1\n",
            "2582     1             0           0\n",
            "2314     1             1           0\n",
            "250      0             1           1\n",
            "1401     0             0           1\n",
            "507      1             1           0\n",
            "2118     1             1           1\n",
            "544      1             0           1\n",
            "2698     1             0           0\n",
            "3150     1             0           0\n",
            "28       0             1           1\n",
            "1403     0             0           1\n",
            "395      0             1           1\n",
            "361      0             0           1\n",
            "2370     1             1           0\n",
            "1856     1             1           0\n",
            "2366     1             1           1\n",
            "839      1             0           0\n",
            "944      1             1           0\n",
            "770      1             1           1\n",
            "975      1             0           1\n",
            "2315     1             1           1\n",
            "2223     1             1           0\n",
            "1145     0             1           1\n",
            "1363     0             0           1\n",
            "3000     1             0           0\n",
            "2769     1             0           0\n",
            "3045     1             0           0\n"
          ]
        }
      ]
    },
    {
      "cell_type": "code",
      "source": [
        "import matplotlib.pyplot as plt\n",
        "\n",
        "# Train the model\n",
        "NBmodel.fit(X_train, y_train)\n",
        "\n",
        "# Calculate model accuracy on both training and test data\n",
        "labels = [\"Training\", \"Test\"]\n",
        "scores = [NBmodel.score(X_train, y_train), NBmodel.score(X_test, y_test)]\n",
        "\n",
        "\n",
        "# Plot the accuracy claues\n",
        "fig = plt.figure()\n",
        "ax = fig.add_axes([0,0,1,1])\n",
        "ax.set_title('Model Classification Accuary on Training vs. Test Data')\n",
        "ax.bar(labels, scores, color=\"orange\")\n",
        "ax.set_ylim(0, 1)\n",
        "plt.show()\n"
      ],
      "metadata": {
        "colab": {
          "base_uri": "https://localhost:8080/",
          "height": 563
        },
        "id": "jgI0m9TKA94n",
        "outputId": "cea3ae8a-509c-4b6e-b612-7a10b0d94913"
      },
      "execution_count": 48,
      "outputs": [
        {
          "output_type": "display_data",
          "data": {
            "text/plain": [
              "<Figure size 640x480 with 1 Axes>"
            ],
            "image/png": "[encoded data removed]"
          },
          "metadata": {}
        }
      ]
    },
    {
      "cell_type": "markdown",
      "source": [
        "Based on the testing ratios I tested, I thought the 75:25 ratio was the best fit because it has a smaller test size which allows the model to be trained better. With highly trained models, it allows for the test data to be organized as accurately as possible and it helps leave little room for false positives or negatives."
      ],
      "metadata": {
        "id": "DvkJwQMwAkCI"
      }
    }
  ]
}